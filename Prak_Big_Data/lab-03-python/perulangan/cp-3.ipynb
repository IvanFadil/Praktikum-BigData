{
 "cells": [
  {
   "cell_type": "markdown",
   "id": "28cf18f6-9cfb-4ef6-a627-f0665eebc55f",
   "metadata": {},
   "source": [
    "### Contoh Program 3 - Membuat pola segitiga dengan Nested Loop"
   ]
  },
  {
   "cell_type": "code",
   "execution_count": 1,
   "id": "3b57a366-46ff-4c6f-b32a-2fda2537362e",
   "metadata": {},
   "outputs": [],
   "source": [
    "n = 5"
   ]
  },
  {
   "cell_type": "code",
   "execution_count": 2,
   "id": "6f73b6df-182c-48df-9c84-470c73adb6c3",
   "metadata": {},
   "outputs": [
    {
     "name": "stdout",
     "output_type": "stream",
     "text": [
      "*\n",
      "**\n",
      "***\n",
      "****\n",
      "*****\n"
     ]
    }
   ],
   "source": [
    "for i in range(1, n + 1):\n",
    "    for j in range(i):\n",
    "        print(\"*\", end=\"\")\n",
    "    print()  # untuk membuat baris baru"
   ]
  },
  {
   "cell_type": "code",
   "execution_count": null,
   "id": "3d8afcde-9e62-478b-a4af-7213df038a0f",
   "metadata": {},
   "outputs": [],
   "source": []
  }
 ],
 "metadata": {
  "kernelspec": {
   "display_name": "Python 3 (ipykernel)",
   "language": "python",
   "name": "python3"
  },
  "language_info": {
   "codemirror_mode": {
    "name": "ipython",
    "version": 3
   },
   "file_extension": ".py",
   "mimetype": "text/x-python",
   "name": "python",
   "nbconvert_exporter": "python",
   "pygments_lexer": "ipython3",
   "version": "3.12.3"
  }
 },
 "nbformat": 4,
 "nbformat_minor": 5
}
