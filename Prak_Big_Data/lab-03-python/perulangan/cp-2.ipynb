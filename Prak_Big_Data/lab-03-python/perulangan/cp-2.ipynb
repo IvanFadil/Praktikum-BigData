{
 "cells": [
  {
   "cell_type": "markdown",
   "id": "2fa686b0-a4fa-426e-a717-e5a9c900f993",
   "metadata": {},
   "source": [
    "### Contoh Program 2 - Menghitung faktorial dengan while loop"
   ]
  },
  {
   "cell_type": "code",
   "execution_count": 1,
   "id": "d7f560fa-4a6e-4fbc-8658-e1336ad16a01",
   "metadata": {},
   "outputs": [],
   "source": [
    "angka = 5\n",
    "faktorial = 1\n",
    "count = angka"
   ]
  },
  {
   "cell_type": "code",
   "execution_count": 2,
   "id": "7f3ad33d-d779-48a3-ad83-e77a3beb5ba0",
   "metadata": {},
   "outputs": [],
   "source": [
    "while count > 0:\n",
    "    faktorial *= count\n",
    "    count -= 1"
   ]
  },
  {
   "cell_type": "code",
   "execution_count": 3,
   "id": "16d4e401-08ff-4a75-a64b-1cb53655ff4c",
   "metadata": {},
   "outputs": [
    {
     "name": "stdout",
     "output_type": "stream",
     "text": [
      "Faktorial dari 5 adalah 120\n"
     ]
    }
   ],
   "source": [
    "print(f\"Faktorial dari {angka} adalah {faktorial}\")"
   ]
  },
  {
   "cell_type": "code",
   "execution_count": null,
   "id": "2ece1197-1173-4226-a549-a9c9497456f7",
   "metadata": {},
   "outputs": [],
   "source": []
  }
 ],
 "metadata": {
  "kernelspec": {
   "display_name": "Python 3 (ipykernel)",
   "language": "python",
   "name": "python3"
  },
  "language_info": {
   "codemirror_mode": {
    "name": "ipython",
    "version": 3
   },
   "file_extension": ".py",
   "mimetype": "text/x-python",
   "name": "python",
   "nbconvert_exporter": "python",
   "pygments_lexer": "ipython3",
   "version": "3.12.3"
  }
 },
 "nbformat": 4,
 "nbformat_minor": 5
}
