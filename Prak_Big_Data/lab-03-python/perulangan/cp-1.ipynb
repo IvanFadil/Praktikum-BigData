{
 "cells": [
  {
   "cell_type": "markdown",
   "id": "3abd33a5-640c-44fc-b8bb-e8eb25e3ba10",
   "metadata": {},
   "source": [
    "### Contoh Program 1 - Mencari angka dalam list"
   ]
  },
  {
   "cell_type": "code",
   "execution_count": 1,
   "id": "4e20eb57-69fc-4fe6-a260-427b4a113d53",
   "metadata": {},
   "outputs": [],
   "source": [
    "angka_list = [10, 20, 30, 40, 50]"
   ]
  },
  {
   "cell_type": "code",
   "execution_count": 2,
   "id": "29dbd5a2-d236-42a1-833d-b6883a903b83",
   "metadata": {},
   "outputs": [
    {
     "name": "stdout",
     "output_type": "stream",
     "text": [
      "10\n",
      "20\n",
      "Angka 30 ditemukan!\n"
     ]
    }
   ],
   "source": [
    "for angka in angka_list:\n",
    "    if angka == 30:\n",
    "        print(\"Angka 30 ditemukan!\")\n",
    "        break  # keluar dari perulangan setelah angka ditemukan\n",
    "    print(angka)"
   ]
  },
  {
   "cell_type": "code",
   "execution_count": null,
   "id": "e9a66daf-4106-4ab1-b508-8f41663eb93a",
   "metadata": {},
   "outputs": [],
   "source": []
  }
 ],
 "metadata": {
  "kernelspec": {
   "display_name": "Python 3 (ipykernel)",
   "language": "python",
   "name": "python3"
  },
  "language_info": {
   "codemirror_mode": {
    "name": "ipython",
    "version": 3
   },
   "file_extension": ".py",
   "mimetype": "text/x-python",
   "name": "python",
   "nbconvert_exporter": "python",
   "pygments_lexer": "ipython3",
   "version": "3.12.3"
  }
 },
 "nbformat": 4,
 "nbformat_minor": 5
}
