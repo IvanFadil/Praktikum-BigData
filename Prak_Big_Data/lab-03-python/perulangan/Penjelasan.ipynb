{
 "cells": [
  {
   "cell_type": "markdown",
   "id": "a5414c93-1e8a-4eaa-bd4a-1688171c44dd",
   "metadata": {},
   "source": [
    "# 3. Perulangan\n",
    "## Penjelasan\n",
    "\n",
    "Perulangan adalah salah satu konsep penting dalam pemrograman yang memungkinkan kita untuk mengeksekusi blok kode secara berulang berdasarkan kondisi tertentu. Python mendukung dua jenis perulangan utama:\n",
    "\n",
    "    Perulangan for\n",
    "    Perulangan while\n",
    "\n",
    "Selain itu, Python menyediakan pernyataan kontrol tambahan seperti break, continue, dan pass untuk mengendalikan alur perulangan.\n",
    "\n",
    "### 1. Perulangan For\n",
    "\n",
    "Perulangan for digunakan untuk mengulangi item dari suatu urutan (seperti list, tuple, string, atau range) secara berurutan. Di setiap iterasi, satu item dari urutan tersebut diambil dan digunakan dalam blok perulangan."
   ]
  },
  {
   "cell_type": "code",
   "execution_count": 1,
   "id": "f32b42c0-14d9-4e71-a764-3b92319a8c57",
   "metadata": {},
   "outputs": [
    {
     "name": "stdout",
     "output_type": "stream",
     "text": [
      "apel\n",
      "jeruk\n",
      "mangga\n"
     ]
    }
   ],
   "source": [
    "buah = [\"apel\", \"jeruk\", \"mangga\"]\n",
    "\n",
    "for item in buah:\n",
    "    print(item)"
   ]
  },
  {
   "cell_type": "markdown",
   "id": "022bf644-be40-422f-a1b5-0708768eeed5",
   "metadata": {},
   "source": [
    "#### contoh menggunakan for dan range"
   ]
  },
  {
   "cell_type": "code",
   "execution_count": 2,
   "id": "69022c00-3a2b-4248-a27c-66f2bec95461",
   "metadata": {},
   "outputs": [
    {
     "name": "stdout",
     "output_type": "stream",
     "text": [
      "0\n",
      "1\n",
      "2\n",
      "3\n",
      "4\n"
     ]
    }
   ],
   "source": [
    "for i in range(5):\n",
    "    print(i)"
   ]
  },
  {
   "cell_type": "code",
   "execution_count": null,
   "id": "f3e620a9-c159-4a24-aaf2-25ba9cc36980",
   "metadata": {},
   "outputs": [],
   "source": []
  }
 ],
 "metadata": {
  "kernelspec": {
   "display_name": "Python 3 (ipykernel)",
   "language": "python",
   "name": "python3"
  },
  "language_info": {
   "codemirror_mode": {
    "name": "ipython",
    "version": 3
   },
   "file_extension": ".py",
   "mimetype": "text/x-python",
   "name": "python",
   "nbconvert_exporter": "python",
   "pygments_lexer": "ipython3",
   "version": "3.12.3"
  }
 },
 "nbformat": 4,
 "nbformat_minor": 5
}
