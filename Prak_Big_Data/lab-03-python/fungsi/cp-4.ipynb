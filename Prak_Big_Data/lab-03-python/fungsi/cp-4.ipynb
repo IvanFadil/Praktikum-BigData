{
 "cells": [
  {
   "cell_type": "markdown",
   "id": "20ca39dd-70c0-4032-a0f9-bccbc0ccfeff",
   "metadata": {},
   "source": [
    "### Contoh Program 4"
   ]
  },
  {
   "cell_type": "code",
   "execution_count": 6,
   "id": "7a90a7eb-4819-42e0-b7d1-2aac46befabf",
   "metadata": {},
   "outputs": [],
   "source": [
    "from functools import reduce"
   ]
  },
  {
   "cell_type": "code",
   "execution_count": 8,
   "id": "bb78714d-131b-4df4-8f1c-2f761717aa45",
   "metadata": {},
   "outputs": [],
   "source": [
    "angka = [1, 2, 3, 4, 5]"
   ]
  },
  {
   "cell_type": "code",
   "execution_count": 9,
   "id": "24a226d7-1dd3-40f9-9c9f-f299463df270",
   "metadata": {},
   "outputs": [],
   "source": [
    "\n",
    "def jumlahkan(a, b):\n",
    "    return a + b\n"
   ]
  },
  {
   "cell_type": "code",
   "execution_count": 10,
   "id": "02ac713d-3200-42a1-9f19-6b9eef584cc4",
   "metadata": {},
   "outputs": [],
   "source": [
    "\n",
    "hasil = reduce(jumlahkan, angka)\n"
   ]
  },
  {
   "cell_type": "code",
   "execution_count": 11,
   "id": "bdf299b6-37ec-4b81-8d27-b6d59184b1ae",
   "metadata": {},
   "outputs": [
    {
     "name": "stdout",
     "output_type": "stream",
     "text": [
      "15\n"
     ]
    }
   ],
   "source": [
    "print(hasil)  # Output: 15"
   ]
  },
  {
   "cell_type": "code",
   "execution_count": null,
   "id": "933255db-c688-4572-8568-cf568bd901f0",
   "metadata": {},
   "outputs": [],
   "source": []
  },
  {
   "cell_type": "code",
   "execution_count": null,
   "id": "cbdfea04-4490-46d0-94a0-9a7ed468cb8b",
   "metadata": {},
   "outputs": [],
   "source": []
  }
 ],
 "metadata": {
  "kernelspec": {
   "display_name": "Python 3 (ipykernel)",
   "language": "python",
   "name": "python3"
  },
  "language_info": {
   "codemirror_mode": {
    "name": "ipython",
    "version": 3
   },
   "file_extension": ".py",
   "mimetype": "text/x-python",
   "name": "python",
   "nbconvert_exporter": "python",
   "pygments_lexer": "ipython3",
   "version": "3.12.3"
  }
 },
 "nbformat": 4,
 "nbformat_minor": 5
}
