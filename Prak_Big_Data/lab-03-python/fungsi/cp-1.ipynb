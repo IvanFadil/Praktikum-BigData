{
 "cells": [
  {
   "cell_type": "markdown",
   "id": "e5e86a16-5cca-4ea1-864b-c9c5af48cd33",
   "metadata": {},
   "source": [
    "### Contoh Program 1 "
   ]
  },
  {
   "cell_type": "code",
   "execution_count": 1,
   "id": "f4db308d-ab8c-4fbd-a8b6-5d06215ddb3e",
   "metadata": {},
   "outputs": [],
   "source": [
    "def celcius_ke_fahrenheit(c):\n",
    "    return (c * 9/5) + 32"
   ]
  },
  {
   "cell_type": "code",
   "execution_count": 2,
   "id": "065a37d0-6301-4b10-ab59-60a3efa2b565",
   "metadata": {},
   "outputs": [],
   "source": [
    "suhu_celcius = [0, 20, 35, 100]"
   ]
  },
  {
   "cell_type": "code",
   "execution_count": 3,
   "id": "a9ec4362-d0a3-46e2-86a0-74ee8a0f9060",
   "metadata": {},
   "outputs": [],
   "source": [
    "suhu_fahrenheit = list(map(celcius_ke_fahrenheit, suhu_celcius))"
   ]
  },
  {
   "cell_type": "code",
   "execution_count": 4,
   "id": "fe072336-8c69-4144-9f91-951234020d46",
   "metadata": {},
   "outputs": [
    {
     "name": "stdout",
     "output_type": "stream",
     "text": [
      "[32.0, 68.0, 95.0, 212.0]\n"
     ]
    }
   ],
   "source": [
    "print(suhu_fahrenheit)  # Output: [32.0, 68.0, 95.0, 212.0]"
   ]
  },
  {
   "cell_type": "code",
   "execution_count": null,
   "id": "ff425c05-e242-486d-bb14-f7c6233b99eb",
   "metadata": {},
   "outputs": [],
   "source": []
  }
 ],
 "metadata": {
  "kernelspec": {
   "display_name": "Python 3 (ipykernel)",
   "language": "python",
   "name": "python3"
  },
  "language_info": {
   "codemirror_mode": {
    "name": "ipython",
    "version": 3
   },
   "file_extension": ".py",
   "mimetype": "text/x-python",
   "name": "python",
   "nbconvert_exporter": "python",
   "pygments_lexer": "ipython3",
   "version": "3.12.3"
  }
 },
 "nbformat": 4,
 "nbformat_minor": 5
}
