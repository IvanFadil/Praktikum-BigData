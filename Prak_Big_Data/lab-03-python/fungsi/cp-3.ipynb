{
 "cells": [
  {
   "cell_type": "markdown",
   "id": "49838094-698d-4c98-be6c-f8853868a6d1",
   "metadata": {},
   "source": [
    "### Contoh Program 3"
   ]
  },
  {
   "cell_type": "code",
   "execution_count": 1,
   "id": "647e8d63-ea6b-4833-8bec-cfee0b514f96",
   "metadata": {},
   "outputs": [],
   "source": [
    "suhu_celcius = [0, 20, 35, 100]\n"
   ]
  },
  {
   "cell_type": "code",
   "execution_count": 2,
   "id": "0afa19c3-a6df-40f0-a526-a55496a7052d",
   "metadata": {},
   "outputs": [],
   "source": [
    "suhu_fahrenheit = [(c * 9/5) + 32 for c in suhu_celcius]"
   ]
  },
  {
   "cell_type": "code",
   "execution_count": 3,
   "id": "06335ee2-9685-402b-ba29-d08b471096c9",
   "metadata": {},
   "outputs": [
    {
     "name": "stdout",
     "output_type": "stream",
     "text": [
      "[32.0, 68.0, 95.0, 212.0]\n"
     ]
    }
   ],
   "source": [
    "print(suhu_fahrenheit)  # Output: [32.0, 68.0, 95.0, 212.0]"
   ]
  },
  {
   "cell_type": "code",
   "execution_count": null,
   "id": "0603d839-da9a-4319-a099-0ca0ac8f74c1",
   "metadata": {},
   "outputs": [],
   "source": []
  }
 ],
 "metadata": {
  "kernelspec": {
   "display_name": "Python 3 (ipykernel)",
   "language": "python",
   "name": "python3"
  },
  "language_info": {
   "codemirror_mode": {
    "name": "ipython",
    "version": 3
   },
   "file_extension": ".py",
   "mimetype": "text/x-python",
   "name": "python",
   "nbconvert_exporter": "python",
   "pygments_lexer": "ipython3",
   "version": "3.12.3"
  }
 },
 "nbformat": 4,
 "nbformat_minor": 5
}
