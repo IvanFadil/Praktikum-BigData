{
 "cells": [
  {
   "cell_type": "markdown",
   "id": "ec5351eb-d4e8-4496-9776-500ea5e460c2",
   "metadata": {},
   "source": [
    "### Contoh Program 2"
   ]
  },
  {
   "cell_type": "code",
   "execution_count": 1,
   "id": "8660d501-7402-4c48-98c6-6a3ae7e279e4",
   "metadata": {},
   "outputs": [],
   "source": [
    "angka = [10, 15, 20, 25, 30]\n"
   ]
  },
  {
   "cell_type": "code",
   "execution_count": 2,
   "id": "a32382b6-fe05-4959-ae29-25210b61cd26",
   "metadata": {},
   "outputs": [],
   "source": [
    "ganjil = list(filter(lambda x: x % 2 != 0, angka))\n"
   ]
  },
  {
   "cell_type": "code",
   "execution_count": 3,
   "id": "1ee9b9d3-060f-4669-a246-6fde169ea469",
   "metadata": {},
   "outputs": [
    {
     "name": "stdout",
     "output_type": "stream",
     "text": [
      "[15, 25]\n"
     ]
    }
   ],
   "source": [
    "print(ganjil)  # Output: [15, 25]"
   ]
  },
  {
   "cell_type": "code",
   "execution_count": null,
   "id": "a1389f20-83c8-45dc-afc5-3b0380cafa25",
   "metadata": {},
   "outputs": [],
   "source": []
  }
 ],
 "metadata": {
  "kernelspec": {
   "display_name": "Python 3 (ipykernel)",
   "language": "python",
   "name": "python3"
  },
  "language_info": {
   "codemirror_mode": {
    "name": "ipython",
    "version": 3
   },
   "file_extension": ".py",
   "mimetype": "text/x-python",
   "name": "python",
   "nbconvert_exporter": "python",
   "pygments_lexer": "ipython3",
   "version": "3.12.3"
  }
 },
 "nbformat": 4,
 "nbformat_minor": 5
}
