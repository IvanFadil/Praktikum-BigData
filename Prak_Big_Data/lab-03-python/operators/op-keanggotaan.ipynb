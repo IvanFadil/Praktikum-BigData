{
 "cells": [
  {
   "cell_type": "markdown",
   "id": "7cd5f2d4-d84a-444d-857a-47e3042067fc",
   "metadata": {},
   "source": [
    "## 7. Operator Keanggotaan\n",
    "\n",
    "Operator keanggotaan digunakan untuk memeriksa apakah nilai atau variabel ada dalam urutan (seperti string, list, tuple, atau set)."
   ]
  },
  {
   "cell_type": "markdown",
   "id": "c5e788a1-4807-4dd4-82b3-56dff8130e73",
   "metadata": {},
   "source": [
    "### Contoh Program: Operator keanggotaan"
   ]
  },
  {
   "cell_type": "code",
   "execution_count": 1,
   "id": "37d91789-3d2b-402a-8fcf-7b8925b34573",
   "metadata": {},
   "outputs": [],
   "source": [
    "list_buah = [\"apel\", \"jeruk\", \"mangga\"]"
   ]
  },
  {
   "cell_type": "code",
   "execution_count": 2,
   "id": "dca7c4c2-7596-4b5b-9d38-a5b21fff1897",
   "metadata": {},
   "outputs": [
    {
     "name": "stdout",
     "output_type": "stream",
     "text": [
      "True\n"
     ]
    }
   ],
   "source": [
    "# Memeriksa apakah 'apel' ada dalam list_buah\n",
    "print(\"apel\" in list_buah)  # Output: True"
   ]
  },
  {
   "cell_type": "code",
   "execution_count": 3,
   "id": "6a20050f-73f5-4627-84cf-fe7f9dfd9422",
   "metadata": {},
   "outputs": [
    {
     "name": "stdout",
     "output_type": "stream",
     "text": [
      "True\n"
     ]
    }
   ],
   "source": [
    "# Memeriksa apakah 'pisang' tidak ada dalam list_buah\n",
    "print(\"pisang\" not in list_buah)  # Output: True"
   ]
  },
  {
   "cell_type": "code",
   "execution_count": null,
   "id": "ec15fb3f-f3da-4d40-8725-42959c5f0890",
   "metadata": {},
   "outputs": [],
   "source": []
  }
 ],
 "metadata": {
  "kernelspec": {
   "display_name": "Python 3 (ipykernel)",
   "language": "python",
   "name": "python3"
  },
  "language_info": {
   "codemirror_mode": {
    "name": "ipython",
    "version": 3
   },
   "file_extension": ".py",
   "mimetype": "text/x-python",
   "name": "python",
   "nbconvert_exporter": "python",
   "pygments_lexer": "ipython3",
   "version": "3.12.3"
  }
 },
 "nbformat": 4,
 "nbformat_minor": 5
}
