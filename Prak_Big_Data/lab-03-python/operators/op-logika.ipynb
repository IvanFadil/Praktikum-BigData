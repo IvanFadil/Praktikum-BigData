{
 "cells": [
  {
   "cell_type": "markdown",
   "id": "14a7ab86-fd61-49e2-8c10-9855529cc50b",
   "metadata": {},
   "source": [
    "# 3. Operator Logika\n",
    "\n",
    "Operator logika digunakan untuk menggabungkan dua atau lebih kondisi. Hasilnya adalah nilai boolean. "
   ]
  },
  {
   "cell_type": "markdown",
   "id": "e5e09a5f-92ac-4b77-a6ce-41cd3104fb3d",
   "metadata": {},
   "source": [
    "### Contoh Program: Operator Logika"
   ]
  },
  {
   "cell_type": "code",
   "execution_count": 1,
   "id": "7e0d1e47-3cbe-4d35-aad5-9f1ef2fe770b",
   "metadata": {},
   "outputs": [],
   "source": [
    "x = True\n",
    "y = False"
   ]
  },
  {
   "cell_type": "code",
   "execution_count": 2,
   "id": "17c3cc77-92eb-441b-a142-0a7cd8399b26",
   "metadata": {},
   "outputs": [
    {
     "name": "stdout",
     "output_type": "stream",
     "text": [
      "x and y: False\n"
     ]
    }
   ],
   "source": [
    "# Logika AND\n",
    "print(\"x and y:\", x and y)  # Output: False"
   ]
  },
  {
   "cell_type": "code",
   "execution_count": 3,
   "id": "95735731-c59b-4fa8-8128-2122550c34b1",
   "metadata": {},
   "outputs": [
    {
     "name": "stdout",
     "output_type": "stream",
     "text": [
      "x or y: True\n"
     ]
    }
   ],
   "source": [
    "# Logika OR\n",
    "print(\"x or y:\", x or y)  # Output: True"
   ]
  },
  {
   "cell_type": "code",
   "execution_count": 4,
   "id": "2564c008-385f-4322-9ffe-0e75e6033784",
   "metadata": {},
   "outputs": [
    {
     "name": "stdout",
     "output_type": "stream",
     "text": [
      "not x: False\n"
     ]
    }
   ],
   "source": [
    "# Logika NOT\n",
    "print(\"not x:\", not x)  # Output: False"
   ]
  },
  {
   "cell_type": "code",
   "execution_count": null,
   "id": "f6038539-ca38-41e5-a1f9-fb478a143bfc",
   "metadata": {},
   "outputs": [],
   "source": []
  }
 ],
 "metadata": {
  "kernelspec": {
   "display_name": "Python 3 (ipykernel)",
   "language": "python",
   "name": "python3"
  },
  "language_info": {
   "codemirror_mode": {
    "name": "ipython",
    "version": 3
   },
   "file_extension": ".py",
   "mimetype": "text/x-python",
   "name": "python",
   "nbconvert_exporter": "python",
   "pygments_lexer": "ipython3",
   "version": "3.12.3"
  }
 },
 "nbformat": 4,
 "nbformat_minor": 5
}
