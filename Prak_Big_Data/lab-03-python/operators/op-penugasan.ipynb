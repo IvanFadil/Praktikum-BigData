{
 "cells": [
  {
   "cell_type": "markdown",
   "id": "7ae140e7-ac48-4bc9-acb9-5cad9e63e0cc",
   "metadata": {},
   "source": [
    "# 4. Operator Assignment\n",
    "\n",
    "Operator penugasan digunakan untuk memberikan nilai ke variabel. Ada beberapa variasi operator penugasan yang menggabungkan operator aritmatika."
   ]
  },
  {
   "cell_type": "markdown",
   "id": "cc479e6e-9512-42f6-a84e-8fed9c5534df",
   "metadata": {},
   "source": [
    "### Contoh Program: Operator assignment"
   ]
  },
  {
   "cell_type": "code",
   "execution_count": 1,
   "id": "592ba5d1-2bc9-48c7-bcf5-95c457ca2701",
   "metadata": {},
   "outputs": [],
   "source": [
    "x = 5"
   ]
  },
  {
   "cell_type": "code",
   "execution_count": 2,
   "id": "d3131350-40e7-4d4a-94e2-b69e675bc398",
   "metadata": {},
   "outputs": [
    {
     "name": "stdout",
     "output_type": "stream",
     "text": [
      "8\n"
     ]
    }
   ],
   "source": [
    "x += 3  # Sama dengan x = x + 3\n",
    "print(x)  # Output: 8"
   ]
  },
  {
   "cell_type": "code",
   "execution_count": 3,
   "id": "4e62f319-2220-4698-b1c9-1aac8f83bb4b",
   "metadata": {},
   "outputs": [
    {
     "name": "stdout",
     "output_type": "stream",
     "text": [
      "16\n"
     ]
    }
   ],
   "source": [
    "x *= 2  # Sama dengan x = x * 2\n",
    "print(x)  # Output: 16"
   ]
  },
  {
   "cell_type": "code",
   "execution_count": null,
   "id": "b38e21ff-ac6a-4184-963c-e8bea58cbe31",
   "metadata": {},
   "outputs": [],
   "source": []
  }
 ],
 "metadata": {
  "kernelspec": {
   "display_name": "Python 3 (ipykernel)",
   "language": "python",
   "name": "python3"
  },
  "language_info": {
   "codemirror_mode": {
    "name": "ipython",
    "version": 3
   },
   "file_extension": ".py",
   "mimetype": "text/x-python",
   "name": "python",
   "nbconvert_exporter": "python",
   "pygments_lexer": "ipython3",
   "version": "3.12.3"
  }
 },
 "nbformat": 4,
 "nbformat_minor": 5
}
