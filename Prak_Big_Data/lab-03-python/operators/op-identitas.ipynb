{
 "cells": [
  {
   "cell_type": "markdown",
   "id": "d441e4c5-77f5-4c3e-b354-2938f53b3ef9",
   "metadata": {},
   "source": [
    "# 6. Operator Identitas\n",
    "\n",
    "Operator identitas digunakan untuk memeriksa apakah dua objek berada di lokasi memori yang sama. \n",
    "\n",
    "### Contoh Program: Operator Identitas"
   ]
  },
  {
   "cell_type": "code",
   "execution_count": 1,
   "id": "d9decdb3-d63e-42f0-8d0b-53442ac06f57",
   "metadata": {},
   "outputs": [],
   "source": [
    "x = [1, 2, 3]\n",
    "y = [1, 2, 3]\n",
    "z = x"
   ]
  },
  {
   "cell_type": "code",
   "execution_count": 2,
   "id": "ee2c2dbf-e592-42e0-b458-e2200c3e2d07",
   "metadata": {},
   "outputs": [
    {
     "name": "stdout",
     "output_type": "stream",
     "text": [
      "False\n"
     ]
    }
   ],
   "source": [
    "# Meskipun x dan y memiliki nilai yang sama, mereka bukan objek yang sama\n",
    "print(x is y)  # Output: False"
   ]
  },
  {
   "cell_type": "code",
   "execution_count": 3,
   "id": "42b3ce5a-4fa1-4638-b2c0-049329bf1e21",
   "metadata": {},
   "outputs": [
    {
     "name": "stdout",
     "output_type": "stream",
     "text": [
      "True\n"
     ]
    }
   ],
   "source": [
    "# z adalah referensi ke x\n",
    "print(x is z)  # Output: True"
   ]
  },
  {
   "cell_type": "code",
   "execution_count": null,
   "id": "1a73ceb5-a921-4eca-98fd-6a7affd2bc3c",
   "metadata": {},
   "outputs": [],
   "source": []
  }
 ],
 "metadata": {
  "kernelspec": {
   "display_name": "Python 3 (ipykernel)",
   "language": "python",
   "name": "python3"
  },
  "language_info": {
   "codemirror_mode": {
    "name": "ipython",
    "version": 3
   },
   "file_extension": ".py",
   "mimetype": "text/x-python",
   "name": "python",
   "nbconvert_exporter": "python",
   "pygments_lexer": "ipython3",
   "version": "3.12.3"
  }
 },
 "nbformat": 4,
 "nbformat_minor": 5
}
