{
 "cells": [
  {
   "cell_type": "markdown",
   "id": "e49d1057-f3d7-4004-a12f-3e03ff0bea02",
   "metadata": {},
   "source": [
    "# 1. Operators\n",
    "## Penjelasan\n",
    " \n",
    "Operator di Python adalah simbol-simbol khusus yang digunakan untuk melakukan operasi pada variabel dan nilai. Python menyediakan berbagai macam operator yang dapat digunakan untuk melakukan operasi aritmatika, logika, perbandingan, dan operasi lainnya. Operator-operator ini dapat dibagi ke dalam beberapa kategori berikut:\n",
    "\n",
    "### 1. Operator Aritmatika\n",
    "\n",
    "Operator aritmatika digunakan untuk melakukan operasi matematika dasar seperti penjumlahan, pengurangan, perkalian, dan sebagainya. "
   ]
  },
  {
   "cell_type": "markdown",
   "id": "e8117f84-6b91-4c6d-b891-4dcbbb30df61",
   "metadata": {},
   "source": [
    "### Contoh Program: Operator Aritmatika\n"
   ]
  },
  {
   "cell_type": "code",
   "execution_count": 3,
   "id": "72ae04cb-a4a0-4431-ac7c-656df2789d7b",
   "metadata": {},
   "outputs": [],
   "source": [
    "x = 10\n",
    "y = 3"
   ]
  },
  {
   "cell_type": "code",
   "execution_count": 4,
   "id": "c1e1a6ab-4b26-4c1f-bf53-0722268dd87c",
   "metadata": {},
   "outputs": [
    {
     "name": "stdout",
     "output_type": "stream",
     "text": [
      "Penjumlahan: 13\n"
     ]
    }
   ],
   "source": [
    "# Penjumlahan\n",
    "print(\"Penjumlahan:\", x + y)  # Output: 13# Pengurangan"
   ]
  },
  {
   "cell_type": "code",
   "execution_count": 5,
   "id": "9a69af86-08e7-4249-8c85-77cd9717347c",
   "metadata": {},
   "outputs": [
    {
     "name": "stdout",
     "output_type": "stream",
     "text": [
      "Pengurangan: 7\n"
     ]
    }
   ],
   "source": [
    "# Pengurangan\n",
    "print(\"Pengurangan:\", x - y)  # Output: 7"
   ]
  },
  {
   "cell_type": "code",
   "execution_count": 6,
   "id": "7379265e-f8a7-4795-ad46-ffd947d85c15",
   "metadata": {},
   "outputs": [
    {
     "name": "stdout",
     "output_type": "stream",
     "text": [
      "Perkalian: 30\n"
     ]
    }
   ],
   "source": [
    "# Perkalian\n",
    "print(\"Perkalian:\", x * y)  # Output: 30"
   ]
  },
  {
   "cell_type": "code",
   "execution_count": 7,
   "id": "7f933f80-5570-4920-9307-1d5128c5b267",
   "metadata": {},
   "outputs": [
    {
     "name": "stdout",
     "output_type": "stream",
     "text": [
      "Pembagian: 3.3333333333333335\n"
     ]
    }
   ],
   "source": [
    "# Pembagian\n",
    "print(\"Pembagian:\", x / y)  # Output: 3.333..."
   ]
  },
  {
   "cell_type": "code",
   "execution_count": 8,
   "id": "eee6f706-abbd-4bea-b23c-f36d5fab8401",
   "metadata": {},
   "outputs": [
    {
     "name": "stdout",
     "output_type": "stream",
     "text": [
      "Modulus: 1\n"
     ]
    }
   ],
   "source": [
    "# Modulus (sisa bagi)\n",
    "print(\"Modulus:\", x % y)  # Output: 1"
   ]
  },
  {
   "cell_type": "code",
   "execution_count": 9,
   "id": "c122aaf4-d211-4c83-8a70-625e1059c5b4",
   "metadata": {},
   "outputs": [
    {
     "name": "stdout",
     "output_type": "stream",
     "text": [
      "Eksponen: 1000\n"
     ]
    }
   ],
   "source": [
    "# Eksponen (pangkat)\n",
    "print(\"Eksponen:\", x ** y)  # Output: 1000"
   ]
  },
  {
   "cell_type": "code",
   "execution_count": 10,
   "id": "eb16e0e6-05d2-437e-92a6-3627ed0d387a",
   "metadata": {},
   "outputs": [
    {
     "name": "stdout",
     "output_type": "stream",
     "text": [
      "Pembagian Bulat: 3\n"
     ]
    }
   ],
   "source": [
    "# Pembagian bulat\n",
    "print(\"Pembagian Bulat:\", x // y)  # Output: 3"
   ]
  }
 ],
 "metadata": {
  "kernelspec": {
   "display_name": "Python 3 (ipykernel)",
   "language": "python",
   "name": "python3"
  },
  "language_info": {
   "codemirror_mode": {
    "name": "ipython",
    "version": 3
   },
   "file_extension": ".py",
   "mimetype": "text/x-python",
   "name": "python",
   "nbconvert_exporter": "python",
   "pygments_lexer": "ipython3",
   "version": "3.12.3"
  }
 },
 "nbformat": 4,
 "nbformat_minor": 5
}
