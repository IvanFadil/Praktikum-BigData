{
 "cells": [
  {
   "cell_type": "markdown",
   "id": "98fe5451-3a12-492c-a6e3-84b6a6aa4faa",
   "metadata": {},
   "source": [
    "# 2. Operator Perbandingan\n",
    "\n",
    "Operator perbandingan digunakan untuk membandingkan dua nilai. Hasil dari operasi perbandingan adalah boolean (True atau False). \n",
    "\n",
    "### Contoh Program: Operator Perbadingan"
   ]
  },
  {
   "cell_type": "code",
   "execution_count": 1,
   "id": "f43bdfcc-c9dc-450c-83a3-2b48d20e078a",
   "metadata": {},
   "outputs": [],
   "source": [
    "a = 5\n",
    "b = 8"
   ]
  },
  {
   "cell_type": "code",
   "execution_count": 2,
   "id": "4676f997-e44a-4394-9f09-baa69f69735b",
   "metadata": {},
   "outputs": [
    {
     "name": "stdout",
     "output_type": "stream",
     "text": [
      "a == b: False\n"
     ]
    }
   ],
   "source": [
    "print(\"a == b:\", a == b)"
   ]
  },
  {
   "cell_type": "code",
   "execution_count": 3,
   "id": "9db08e48-0cb9-4cf2-acba-59d3c0a9ea3e",
   "metadata": {},
   "outputs": [
    {
     "name": "stdout",
     "output_type": "stream",
     "text": [
      "a != b: True\n"
     ]
    }
   ],
   "source": [
    "print(\"a != b:\", a != b)"
   ]
  },
  {
   "cell_type": "code",
   "execution_count": 4,
   "id": "d8d3a678-7825-4308-8790-2a2930086f0c",
   "metadata": {},
   "outputs": [
    {
     "name": "stdout",
     "output_type": "stream",
     "text": [
      "a > b: False\n"
     ]
    }
   ],
   "source": [
    "print(\"a > b:\", a > b)"
   ]
  },
  {
   "cell_type": "code",
   "execution_count": 5,
   "id": "70515a83-af86-4997-b9a0-6da26501bc38",
   "metadata": {},
   "outputs": [
    {
     "name": "stdout",
     "output_type": "stream",
     "text": [
      "a < b: True\n"
     ]
    }
   ],
   "source": [
    "print(\"a < b:\", a < b)"
   ]
  },
  {
   "cell_type": "code",
   "execution_count": 6,
   "id": "136e858b-98fa-4fd9-8cda-85025a9e5f88",
   "metadata": {},
   "outputs": [
    {
     "name": "stdout",
     "output_type": "stream",
     "text": [
      "a >= b: False\n"
     ]
    }
   ],
   "source": [
    "print(\"a >= b:\", a >= b)"
   ]
  },
  {
   "cell_type": "code",
   "execution_count": 7,
   "id": "24f53653-f273-47e5-9c73-0867ce9196fa",
   "metadata": {},
   "outputs": [
    {
     "name": "stdout",
     "output_type": "stream",
     "text": [
      "a <= b: True\n"
     ]
    }
   ],
   "source": [
    "print(\"a <= b:\", a <= b)"
   ]
  },
  {
   "cell_type": "code",
   "execution_count": null,
   "id": "bcec1da8-ae99-4c38-abc7-3cd0e0fd779b",
   "metadata": {},
   "outputs": [],
   "source": []
  }
 ],
 "metadata": {
  "kernelspec": {
   "display_name": "Python 3 (ipykernel)",
   "language": "python",
   "name": "python3"
  },
  "language_info": {
   "codemirror_mode": {
    "name": "ipython",
    "version": 3
   },
   "file_extension": ".py",
   "mimetype": "text/x-python",
   "name": "python",
   "nbconvert_exporter": "python",
   "pygments_lexer": "ipython3",
   "version": "3.12.3"
  }
 },
 "nbformat": 4,
 "nbformat_minor": 5
}
