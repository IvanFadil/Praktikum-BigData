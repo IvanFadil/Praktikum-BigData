{
 "cells": [
  {
   "cell_type": "markdown",
   "id": "1eaab5ba-6e9b-4980-9633-45505664083b",
   "metadata": {},
   "source": [
    "# 5. Operator Bitwise\n",
    "\n",
    "Operator bitwise digunakan untuk operasi pada bit-level. Python mendukung beberapa operator bitwise yang sering digunakan dalam manipulasi bit.\n",
    "\n",
    "### Contoh Program: Operator bitwise"
   ]
  },
  {
   "cell_type": "code",
   "execution_count": 1,
   "id": "07ea1cdd-e359-4f97-b46c-889c1bbb2b86",
   "metadata": {},
   "outputs": [],
   "source": [
    "x = 10  # 1010 dalam biner\n",
    "y = 4   # 0100 dalam biner"
   ]
  },
  {
   "cell_type": "code",
   "execution_count": 2,
   "id": "d3eba149-2e71-40bf-a270-8623b0da08b9",
   "metadata": {},
   "outputs": [
    {
     "name": "stdout",
     "output_type": "stream",
     "text": [
      "x & y: 0\n"
     ]
    }
   ],
   "source": [
    "print(\"x & y:\", x & y)  # AND Bitwise: 0000"
   ]
  },
  {
   "cell_type": "code",
   "execution_count": 3,
   "id": "b9b2478f-e0aa-46e5-9dde-4382e2ff2a25",
   "metadata": {},
   "outputs": [
    {
     "name": "stdout",
     "output_type": "stream",
     "text": [
      "x | y: 14\n"
     ]
    }
   ],
   "source": [
    "print(\"x | y:\", x | y)  # OR Bitwise: 1110"
   ]
  },
  {
   "cell_type": "code",
   "execution_count": 4,
   "id": "1ffacabb-ea84-4d39-81a1-eb08156fde2c",
   "metadata": {},
   "outputs": [
    {
     "name": "stdout",
     "output_type": "stream",
     "text": [
      "x ^ y: 14\n"
     ]
    }
   ],
   "source": [
    "print(\"x ^ y:\", x ^ y)  # XOR Bitwise: 1110"
   ]
  },
  {
   "cell_type": "code",
   "execution_count": 5,
   "id": "c94c5327-f2e4-4eab-8ddc-dde6ab4b7a68",
   "metadata": {},
   "outputs": [
    {
     "name": "stdout",
     "output_type": "stream",
     "text": [
      "~x: -11\n"
     ]
    }
   ],
   "source": [
    "print(\"~x:\", ~x)        # NOT Bitwise: -11 (komplemen bit)"
   ]
  },
  {
   "cell_type": "code",
   "execution_count": 6,
   "id": "17dcc688-737b-4605-8326-16545a9f920a",
   "metadata": {},
   "outputs": [
    {
     "name": "stdout",
     "output_type": "stream",
     "text": [
      "x << 1: 20\n"
     ]
    }
   ],
   "source": [
    "print(\"x << 1:\", x << 1) # Left shift: 10100 (20 dalam desimal)"
   ]
  },
  {
   "cell_type": "code",
   "execution_count": 7,
   "id": "32a0a144-75ad-4272-bd00-14a787ea2487",
   "metadata": {},
   "outputs": [
    {
     "name": "stdout",
     "output_type": "stream",
     "text": [
      "x >> 1: 5\n"
     ]
    }
   ],
   "source": [
    "print(\"x >> 1:\", x >> 1) # Right shift: 0101 (5 dalam desimal)\n"
   ]
  },
  {
   "cell_type": "code",
   "execution_count": null,
   "id": "f2d22b0b-1367-47d9-bbd2-2e3f80773860",
   "metadata": {},
   "outputs": [],
   "source": []
  }
 ],
 "metadata": {
  "kernelspec": {
   "display_name": "Python 3 (ipykernel)",
   "language": "python",
   "name": "python3"
  },
  "language_info": {
   "codemirror_mode": {
    "name": "ipython",
    "version": 3
   },
   "file_extension": ".py",
   "mimetype": "text/x-python",
   "name": "python",
   "nbconvert_exporter": "python",
   "pygments_lexer": "ipython3",
   "version": "3.12.3"
  }
 },
 "nbformat": 4,
 "nbformat_minor": 5
}
