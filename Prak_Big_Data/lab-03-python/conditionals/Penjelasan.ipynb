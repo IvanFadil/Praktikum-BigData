{
 "cells": [
  {
   "cell_type": "markdown",
   "id": "c1eb019b-57ac-475b-a8bf-6caaf3c8ddad",
   "metadata": {},
   "source": [
    "# 2. Conditionals\n",
    "## Penjelasan\n",
    "\n",
    "Dalam pemrograman, pernyataan kondisional digunakan untuk membuat keputusan berdasarkan kondisi tertentu. Di Python, pernyataan kondisional yang paling umum adalah if, if-else, dan elif. Dengan menggunakan pernyataan ini, kita dapat menentukan alur eksekusi program berdasarkan kondisi tertentu yang mengarah ke pengambilan keputusanbeberapa kategori berikut:\n",
    "\n",
    "### 1. If Statement\n",
    "\n",
    "Pernyataan if digunakan untuk menjalankan blok kode jika kondisi yang diberikan True (benar). Jika kondisinya False (salah), blok kode di dalam if tidak akan dieksekusi."
   ]
  },
  {
   "cell_type": "code",
   "execution_count": 1,
   "id": "bfda6be1-186c-452f-a8bc-04c85ca852ce",
   "metadata": {},
   "outputs": [
    {
     "name": "stdout",
     "output_type": "stream",
     "text": [
      "Angka lebih besar dari 5\n"
     ]
    }
   ],
   "source": [
    "angka = 10\n",
    "\n",
    "if angka > 5:\n",
    "    print(\"Angka lebih besar dari 5\")"
   ]
  },
  {
   "cell_type": "markdown",
   "id": "e1d038f2-ee38-4416-bd2c-16c2f66481d2",
   "metadata": {},
   "source": [
    "Penjelasan: Dalam contoh ini, if memeriksa apakah angka lebih besar dari 5. Jika benar, maka pernyataan di dalam blok if akan dieksekusi, mencetak \"Angka lebih besar dari 5.\""
   ]
  },
  {
   "cell_type": "markdown",
   "id": "34367fbc-c0ff-46f6-ab58-d24a9765bbe1",
   "metadata": {},
   "source": [
    "### 2. If-Else Statement\n",
    "\n",
    "Pernyataan if-else memungkinkan kita menjalankan satu blok kode jika kondisi True dan blok kode lain jika kondisi False."
   ]
  },
  {
   "cell_type": "code",
   "execution_count": 2,
   "id": "8ff69490-1f59-4084-9f08-b11fb74fd51e",
   "metadata": {},
   "outputs": [
    {
     "name": "stdout",
     "output_type": "stream",
     "text": [
      "Angka lebih kecil atau sama dengan 5\n"
     ]
    }
   ],
   "source": [
    "angka = 3\n",
    "\n",
    "if angka > 5:\n",
    "    print(\"Angka lebih besar dari 5\")\n",
    "else:\n",
    "    print(\"Angka lebih kecil atau sama dengan 5\")"
   ]
  },
  {
   "cell_type": "markdown",
   "id": "f7c35f01-50f6-4c4b-a730-df193ef6c396",
   "metadata": {},
   "source": [
    "\n",
    "Penjelasan: Pada contoh ini, jika kondisi angka > 5 benar, maka pesan \"Angka lebih besar dari 5\" akan dicetak. Jika salah, blok kode dalam else akan dieksekusi, mencetak \"Angka lebih kecil atau sama dengan 5.\""
   ]
  },
  {
   "cell_type": "markdown",
   "id": "1d6a3655-a8d9-45f1-9566-b359cd391d3c",
   "metadata": {},
   "source": [
    "### 3. Elif Statement\n",
    "\n",
    "Pernyataan elif (singkatan dari \"else if\") digunakan untuk memeriksa beberapa kondisi. Jika kondisi pertama salah, program akan memeriksa kondisi berikutnya dengan elif."
   ]
  },
  {
   "cell_type": "code",
   "execution_count": 3,
   "id": "a8e38882-c8d6-47fa-8365-cd441aa8475b",
   "metadata": {},
   "outputs": [
    {
     "name": "stdout",
     "output_type": "stream",
     "text": [
      "Angka lebih besar dari 5 tetapi kurang dari atau sama dengan 10\n"
     ]
    }
   ],
   "source": [
    "angka = 7\n",
    "\n",
    "if angka > 10:\n",
    "    print(\"Angka lebih besar dari 10\")\n",
    "elif angka > 5:\n",
    "    print(\"Angka lebih besar dari 5 tetapi kurang dari atau sama dengan 10\")\n",
    "else:\n",
    "    print(\"Angka kurang dari atau sama dengan 5\")"
   ]
  },
  {
   "cell_type": "markdown",
   "id": "5593a9be-702a-40e5-8c47-ebfe3c50731e",
   "metadata": {},
   "source": [
    "Penjelasan: Dalam contoh ini, Python pertama-tama memeriksa apakah angka > 10. Jika False, ia akan memeriksa kondisi kedua (angka > 5). Jika kondisi kedua benar, blok elif akan dieksekusi. Jika kedua kondisi salah, blok else akan dijalankan."
   ]
  },
  {
   "cell_type": "markdown",
   "id": "5e44e667-94da-4c1a-9922-01fd9ccf13cc",
   "metadata": {},
   "source": [
    "### 4. If Bersarang(Nested If)\n",
    "Python juga mendukung pernyataan if bersarang, yaitu pernyataan if di dalam if. Ini berguna jika kita ingin memeriksa beberapa kondisi dalam satu blok."
   ]
  },
  {
   "cell_type": "code",
   "execution_count": 4,
   "id": "7e3085e0-215a-445b-8d4a-b3aaf67c5857",
   "metadata": {},
   "outputs": [
    {
     "name": "stdout",
     "output_type": "stream",
     "text": [
      "Angka lebih besar dari 10\n",
      "Angka juga genap\n"
     ]
    }
   ],
   "source": [
    "angka = 12\n",
    "\n",
    "if angka > 10:\n",
    "    print(\"Angka lebih besar dari 10\")\n",
    "    if angka % 2 == 0:\n",
    "        print(\"Angka juga genap\")\n",
    "    else:\n",
    "        print(\"Angka ganjil\")\n",
    "else:\n",
    "    print(\"Angka kurang dari atau sama dengan 10\")"
   ]
  },
  {
   "cell_type": "markdown",
   "id": "170f7ffa-3504-4f6d-bdb8-9a672b8793f0",
   "metadata": {},
   "source": [
    "Penjelasan: DJika angka lebih besar dari 10, program akan memeriksa apakah angka tersebut genap atau ganjil. Ini adalah contoh dari if bersarang."
   ]
  },
  {
   "cell_type": "code",
   "execution_count": null,
   "id": "02148856-20e1-4bdb-bb70-3a9c11ab02ea",
   "metadata": {},
   "outputs": [],
   "source": []
  }
 ],
 "metadata": {
  "kernelspec": {
   "display_name": "Python 3 (ipykernel)",
   "language": "python",
   "name": "python3"
  },
  "language_info": {
   "codemirror_mode": {
    "name": "ipython",
    "version": 3
   },
   "file_extension": ".py",
   "mimetype": "text/x-python",
   "name": "python",
   "nbconvert_exporter": "python",
   "pygments_lexer": "ipython3",
   "version": "3.12.3"
  }
 },
 "nbformat": 4,
 "nbformat_minor": 5
}
