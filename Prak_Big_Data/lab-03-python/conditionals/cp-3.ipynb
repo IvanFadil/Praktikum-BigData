{
 "cells": [
  {
   "cell_type": "markdown",
   "id": "50371ed3-9b1a-4ad8-bdc9-21b7ab54276e",
   "metadata": {},
   "source": [
    "### Contoh Program 3 - Menentukan paritas bilangan"
   ]
  },
  {
   "cell_type": "code",
   "execution_count": 1,
   "id": "83e21ed4-076c-49ad-a70d-9ab5f3141e5e",
   "metadata": {},
   "outputs": [],
   "source": [
    "angka = 9"
   ]
  },
  {
   "cell_type": "code",
   "execution_count": 2,
   "id": "cabd1ee2-8dd3-4bd7-83e3-75464b2def12",
   "metadata": {},
   "outputs": [
    {
     "name": "stdout",
     "output_type": "stream",
     "text": [
      "Angka positif dan ganjil\n"
     ]
    }
   ],
   "source": [
    "if angka > 0:\n",
    "    if angka % 2 == 0:\n",
    "        print(\"Angka positif dan genap\")\n",
    "    else:\n",
    "        print(\"Angka positif dan ganjil\")\n",
    "else:\n",
    "    print(\"Angka negatif atau nol\")"
   ]
  },
  {
   "cell_type": "code",
   "execution_count": null,
   "id": "bd0178b7-ff4e-4e8a-81e6-458cc85b465b",
   "metadata": {},
   "outputs": [],
   "source": []
  }
 ],
 "metadata": {
  "kernelspec": {
   "display_name": "Python 3 (ipykernel)",
   "language": "python",
   "name": "python3"
  },
  "language_info": {
   "codemirror_mode": {
    "name": "ipython",
    "version": 3
   },
   "file_extension": ".py",
   "mimetype": "text/x-python",
   "name": "python",
   "nbconvert_exporter": "python",
   "pygments_lexer": "ipython3",
   "version": "3.12.3"
  }
 },
 "nbformat": 4,
 "nbformat_minor": 5
}
