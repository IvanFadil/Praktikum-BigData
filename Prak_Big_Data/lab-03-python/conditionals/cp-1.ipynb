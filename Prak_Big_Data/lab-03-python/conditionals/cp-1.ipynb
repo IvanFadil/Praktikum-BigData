{
 "cells": [
  {
   "cell_type": "markdown",
   "id": "1aaab7ec-3826-4c03-8e81-81c53b631f00",
   "metadata": {},
   "source": [
    "### Contoh Program 1 - Menentukan kelulusan berdasarkan nilai"
   ]
  },
  {
   "cell_type": "code",
   "execution_count": 1,
   "id": "dbf7e2bb-c080-4381-ac34-0f13575e6dcc",
   "metadata": {},
   "outputs": [],
   "source": [
    "nilai = 85"
   ]
  },
  {
   "cell_type": "code",
   "execution_count": 2,
   "id": "1ba73911-26a0-41ed-baf9-98174bbf5c0d",
   "metadata": {},
   "outputs": [
    {
     "name": "stdout",
     "output_type": "stream",
     "text": [
      "Grade: B\n"
     ]
    }
   ],
   "source": [
    "if nilai >= 90:\n",
    "    print(\"Grade: A\")\n",
    "elif nilai >= 80:\n",
    "    print(\"Grade: B\")\n",
    "elif nilai >= 70:\n",
    "    print(\"Grade: C\")\n",
    "elif nilai >= 60:\n",
    "    print(\"Grade: D\")\n",
    "else:\n",
    "    print(\"Grade: F\")"
   ]
  },
  {
   "cell_type": "code",
   "execution_count": null,
   "id": "d990487d-aeff-46e1-a0fc-53a25374c6e6",
   "metadata": {},
   "outputs": [],
   "source": []
  }
 ],
 "metadata": {
  "kernelspec": {
   "display_name": "Python 3 (ipykernel)",
   "language": "python",
   "name": "python3"
  },
  "language_info": {
   "codemirror_mode": {
    "name": "ipython",
    "version": 3
   },
   "file_extension": ".py",
   "mimetype": "text/x-python",
   "name": "python",
   "nbconvert_exporter": "python",
   "pygments_lexer": "ipython3",
   "version": "3.12.3"
  }
 },
 "nbformat": 4,
 "nbformat_minor": 5
}
