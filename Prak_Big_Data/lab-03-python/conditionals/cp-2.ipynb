{
 "cells": [
  {
   "cell_type": "markdown",
   "id": "b2ddf925-4fb7-4b7b-9ab2-b60d79556ba3",
   "metadata": {},
   "source": [
    "### Contoh Program 2 - Menentukan jenis segitiga"
   ]
  },
  {
   "cell_type": "code",
   "execution_count": 1,
   "id": "53d9b327-457d-433a-8f0e-6ed7500081db",
   "metadata": {},
   "outputs": [],
   "source": [
    "a = 5\n",
    "b = 5\n",
    "c = 8"
   ]
  },
  {
   "cell_type": "code",
   "execution_count": 2,
   "id": "549297ff-ecef-4c7e-b26a-3f653063c018",
   "metadata": {},
   "outputs": [
    {
     "name": "stdout",
     "output_type": "stream",
     "text": [
      "Segitiga Sama Kaki\n"
     ]
    }
   ],
   "source": [
    "if a == b == c:\n",
    "    print(\"Segitiga Sama Sisi\")\n",
    "elif a == b or b == c or a == c:\n",
    "    print(\"Segitiga Sama Kaki\")\n",
    "else:\n",
    "    print(\"Segitiga Sembarang\")\n"
   ]
  },
  {
   "cell_type": "code",
   "execution_count": null,
   "id": "7234c073-0768-4f9f-9853-f8124cfb294e",
   "metadata": {},
   "outputs": [],
   "source": []
  }
 ],
 "metadata": {
  "kernelspec": {
   "display_name": "Python 3 (ipykernel)",
   "language": "python",
   "name": "python3"
  },
  "language_info": {
   "codemirror_mode": {
    "name": "ipython",
    "version": 3
   },
   "file_extension": ".py",
   "mimetype": "text/x-python",
   "name": "python",
   "nbconvert_exporter": "python",
   "pygments_lexer": "ipython3",
   "version": "3.12.3"
  }
 },
 "nbformat": 4,
 "nbformat_minor": 5
}
