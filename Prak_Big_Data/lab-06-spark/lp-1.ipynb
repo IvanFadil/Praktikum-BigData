{
 "cells": [
  {
   "cell_type": "code",
   "execution_count": 1,
   "id": "09e67adc-1309-4b84-8d1c-a486ae4b3187",
   "metadata": {},
   "outputs": [],
   "source": [
    "from pyspark.sql import SparkSession"
   ]
  },
  {
   "cell_type": "code",
   "execution_count": 2,
   "id": "cb84e41c-69a7-488a-a82b-deff6a603390",
   "metadata": {},
   "outputs": [
    {
     "name": "stderr",
     "output_type": "stream",
     "text": [
      "24/11/16 21:05:41 WARN Utils: Your hostname, ivan resolves to a loopback address: 127.0.1.1; using 10.0.2.15 instead (on interface enp0s3)\n",
      "24/11/16 21:05:41 WARN Utils: Set SPARK_LOCAL_IP if you need to bind to another address\n",
      "Setting default log level to \"WARN\".\n",
      "To adjust logging level use sc.setLogLevel(newLevel). For SparkR, use setLogLevel(newLevel).\n",
      "24/11/16 21:05:42 WARN NativeCodeLoader: Unable to load native-hadoop library for your platform... using builtin-java classes where applicable\n"
     ]
    }
   ],
   "source": [
    "spark = SparkSession.builder.appName(\"SparkMisingData\").getOrCreate()"
   ]
  },
  {
   "cell_type": "code",
   "execution_count": 3,
   "id": "6af2bdca-b174-46ac-b950-ed287c2df847",
   "metadata": {},
   "outputs": [],
   "source": [
    "df = spark.read.csv(\"employee_data.csv\",header=True,inferSchema=True)"
   ]
  },
  {
   "cell_type": "code",
   "execution_count": 4,
   "id": "026632cc-bea6-4e41-828d-f6243226051a",
   "metadata": {},
   "outputs": [
    {
     "name": "stdout",
     "output_type": "stream",
     "text": [
      "+-----------+-------------+----+----------+-----+\n",
      "|employee_id|employee_name| age|  location|hours|\n",
      "+-----------+-------------+----+----------+-----+\n",
      "|       G001|       Pichai|  47|California|   14|\n",
      "|       M002|         Bill|  64|Washington| NULL|\n",
      "|       A003|         Jeff|  56|      NULL| NULL|\n",
      "|       A004|         NULL|NULL|      NULL|   12|\n",
      "+-----------+-------------+----+----------+-----+\n",
      "\n"
     ]
    }
   ],
   "source": [
    "df.show()"
   ]
  },
  {
   "cell_type": "code",
   "execution_count": 5,
   "id": "a7226edb-fd70-42d2-b7f4-2b944ddc32f7",
   "metadata": {},
   "outputs": [
    {
     "name": "stdout",
     "output_type": "stream",
     "text": [
      "Data after dropping the rows having null values\n",
      "+-----------+-------------+---+----------+-----+\n",
      "|employee_id|employee_name|age|  location|hours|\n",
      "+-----------+-------------+---+----------+-----+\n",
      "|       G001|       Pichai| 47|California|   14|\n",
      "+-----------+-------------+---+----------+-----+\n",
      "\n"
     ]
    }
   ],
   "source": [
    "print(\"Data after dropping the rows having null values\")\n",
    "df.na.drop().show()"
   ]
  },
  {
   "cell_type": "code",
   "execution_count": 6,
   "id": "f0984026-57a8-4d9b-a006-72ba92548067",
   "metadata": {},
   "outputs": [
    {
     "name": "stdout",
     "output_type": "stream",
     "text": [
      "Data after dropping the rows having atleast 4 non-null values\n",
      "+-----------+-------------+---+----------+-----+\n",
      "|employee_id|employee_name|age|  location|hours|\n",
      "+-----------+-------------+---+----------+-----+\n",
      "|       G001|       Pichai| 47|California|   14|\n",
      "|       M002|         Bill| 64|Washington| NULL|\n",
      "+-----------+-------------+---+----------+-----+\n",
      "\n"
     ]
    }
   ],
   "source": [
    "print(\"Data after dropping the rows having atleast 4 non-null values\")\n",
    "df.na.drop(thresh=4).show()"
   ]
  },
  {
   "cell_type": "code",
   "execution_count": 7,
   "id": "edca4c4e-c953-44e2-982a-97a4ef092c37",
   "metadata": {},
   "outputs": [
    {
     "name": "stdout",
     "output_type": "stream",
     "text": [
      "Data after dropping the rows having null values in hours column\n",
      "+-----------+-------------+----+----------+-----+\n",
      "|employee_id|employee_name| age|  location|hours|\n",
      "+-----------+-------------+----+----------+-----+\n",
      "|       G001|       Pichai|  47|California|   14|\n",
      "|       A004|         NULL|NULL|      NULL|   12|\n",
      "+-----------+-------------+----+----------+-----+\n",
      "\n"
     ]
    }
   ],
   "source": [
    "print(\"Data after dropping the rows having null values in hours column\")\n",
    "df.na.drop(subset=\"hours\").show()"
   ]
  },
  {
   "cell_type": "code",
   "execution_count": 8,
   "id": "f50caf7b-d399-46ed-9d14-3d86514c4219",
   "metadata": {},
   "outputs": [
    {
     "name": "stdout",
     "output_type": "stream",
     "text": [
      "Data after filling the rows having null values in hours column\n",
      "+-----------+-------------+----+----------+-----+\n",
      "|employee_id|employee_name| age|  location|hours|\n",
      "+-----------+-------------+----+----------+-----+\n",
      "|       G001|       Pichai|  47|California|   14|\n",
      "|       M002|         Bill|  64|Washington|   12|\n",
      "|       A003|         Jeff|  56|      NULL|   12|\n",
      "|       A004|         NULL|NULL|      NULL|   12|\n",
      "+-----------+-------------+----+----------+-----+\n",
      "\n"
     ]
    }
   ],
   "source": [
    "print(\"Data after filling the rows having null values in hours column\")\n",
    "df.na.fill(12,subset=\"hours\").show()"
   ]
  },
  {
   "cell_type": "code",
   "execution_count": 9,
   "id": "03614004-a7cf-4c23-a71c-b283cde55b84",
   "metadata": {},
   "outputs": [],
   "source": [
    "from pyspark.sql.functions import mean #importing the mean function"
   ]
  },
  {
   "cell_type": "code",
   "execution_count": 10,
   "id": "a25e81fa-9bd6-4284-9be7-58b05bde155e",
   "metadata": {},
   "outputs": [],
   "source": [
    "mean_value = df.select(mean(\"hours\")).collect()[0][0]"
   ]
  },
  {
   "cell_type": "code",
   "execution_count": 11,
   "id": "b480a5f4-f721-4c48-b15a-ad4ea1f21c8a",
   "metadata": {},
   "outputs": [
    {
     "name": "stdout",
     "output_type": "stream",
     "text": [
      "Data after filling the rows having null values in hours column with calculated mean value\n",
      "+-----------+-------------+----+----------+-----+\n",
      "|employee_id|employee_name| age|  location|hours|\n",
      "+-----------+-------------+----+----------+-----+\n",
      "|       G001|       Pichai|  47|California|   14|\n",
      "|       M002|         Bill|  64|Washington|   13|\n",
      "|       A003|         Jeff|  56|      NULL|   13|\n",
      "|       A004|         NULL|NULL|      NULL|   12|\n",
      "+-----------+-------------+----+----------+-----+\n",
      "\n"
     ]
    }
   ],
   "source": [
    "#calculating mean value\n",
    "print(\"Data after filling the rows having null values in hours column with calculated mean value\")\n",
    "df.na.fill(mean_value,subset=\"hours\").show()"
   ]
  },
  {
   "cell_type": "code",
   "execution_count": 12,
   "id": "2c86934a-1919-45ec-95a6-c256100a1681",
   "metadata": {},
   "outputs": [
    {
     "name": "stdout",
     "output_type": "stream",
     "text": [
      "Data after replacing a specific rows value in employee_name column\n",
      "+-----------+-------------+----+----------+-----+\n",
      "|employee_id|employee_name| age|  location|hours|\n",
      "+-----------+-------------+----+----------+-----+\n",
      "|       G001|       Sundar|  47|California|   14|\n",
      "|       M002|         Bill|  64|Washington| NULL|\n",
      "|       A003|         Jeff|  56|      NULL| NULL|\n",
      "|       A004|         NULL|NULL|      NULL|   12|\n",
      "+-----------+-------------+----+----------+-----+\n",
      "\n"
     ]
    }
   ],
   "source": [
    "print(\"Data after replacing a specific rows value in employee_name column\")\n",
    "df.na.replace(\"Pichai\",\"Sundar\",subset=\"employee_name\").show()"
   ]
  },
  {
   "cell_type": "code",
   "execution_count": null,
   "id": "fc5cf862-96ae-4b1f-9dc6-6c33dcd22e0d",
   "metadata": {},
   "outputs": [],
   "source": []
  }
 ],
 "metadata": {
  "kernelspec": {
   "display_name": "Python 3 (ipykernel)",
   "language": "python",
   "name": "python3"
  },
  "language_info": {
   "codemirror_mode": {
    "name": "ipython",
    "version": 3
   },
   "file_extension": ".py",
   "mimetype": "text/x-python",
   "name": "python",
   "nbconvert_exporter": "python",
   "pygments_lexer": "ipython3",
   "version": "3.12.3"
  }
 },
 "nbformat": 4,
 "nbformat_minor": 5
}
