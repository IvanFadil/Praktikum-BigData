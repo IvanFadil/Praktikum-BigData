{
 "cells": [
  {
   "cell_type": "code",
   "execution_count": 3,
   "id": "fea5a2de-a098-4834-849c-c09857c00168",
   "metadata": {},
   "outputs": [],
   "source": [
    "# import SparkSession\n",
    "from pyspark.sql import SparkSession"
   ]
  },
  {
   "cell_type": "code",
   "execution_count": 4,
   "id": "1754046a-2edb-40cf-be59-d2e11cf55cd7",
   "metadata": {},
   "outputs": [
    {
     "name": "stderr",
     "output_type": "stream",
     "text": [
      "24/10/13 20:22:45 WARN Utils: Your hostname, ivan resolves to a loopback address: 127.0.1.1; using 10.0.2.15 instead (on interface enp0s3)\n",
      "24/10/13 20:22:45 WARN Utils: Set SPARK_LOCAL_IP if you need to bind to another address\n",
      "Setting default log level to \"WARN\".\n",
      "To adjust logging level use sc.setLogLevel(newLevel). For SparkR, use setLogLevel(newLevel).\n",
      "24/10/13 20:22:46 WARN NativeCodeLoader: Unable to load native-hadoop library for your platform... using builtin-java classes where applicable\n"
     ]
    }
   ],
   "source": [
    "# Membuat Spark Session\n",
    "spark = SparkSession.builder.appName(\"MyFirstSparkSession\").getOrCreate()"
   ]
  },
  {
   "cell_type": "code",
   "execution_count": 9,
   "id": "fe11a6de-969d-458a-b45d-83e109a12a30",
   "metadata": {},
   "outputs": [],
   "source": [
    "# Membaca data tanpa inferSchema parameter\n",
    "df = spark.read.csv(\"employee.csv\",header=True)"
   ]
  },
  {
   "cell_type": "code",
   "execution_count": 10,
   "id": "29057381-c9a3-46b9-bcb3-2323e415b7ce",
   "metadata": {},
   "outputs": [
    {
     "name": "stdout",
     "output_type": "stream",
     "text": [
      "+-----------+-------------+---+----------+-----+\n",
      "|employee_id|employee_name|age|  location|hours|\n",
      "+-----------+-------------+---+----------+-----+\n",
      "|       G001|       Pichai| 47|California|   14|\n",
      "|       M002|         Bill| 64|Washington|   10|\n",
      "|       A003|         Jeff| 56|Washington|   11|\n",
      "|       A004|         Cook| 59|California|   12|\n",
      "+-----------+-------------+---+----------+-----+\n",
      "\n"
     ]
    }
   ],
   "source": [
    "# Menampilkan dataframe data\n",
    "df.show() "
   ]
  },
  {
   "cell_type": "code",
   "execution_count": 19,
   "id": "b075238c-fa95-4b74-9e94-0cdc12e3a76c",
   "metadata": {},
   "outputs": [
    {
     "name": "stdout",
     "output_type": "stream",
     "text": [
      "['employee_id', 'employee_name', 'age', 'location', 'hours']\n"
     ]
    }
   ],
   "source": [
    "print(df.columns)"
   ]
  },
  {
   "cell_type": "code",
   "execution_count": 14,
   "id": "cf65bde6-af98-4a9d-8761-0857d7bcd28d",
   "metadata": {},
   "outputs": [
    {
     "name": "stdout",
     "output_type": "stream",
     "text": [
      "root\n",
      " |-- employee_id: string (nullable = true)\n",
      " |-- employee_name: string (nullable = true)\n",
      " |-- age: string (nullable = true)\n",
      " |-- location: string (nullable = true)\n",
      " |-- hours: string (nullable = true)\n",
      "\n"
     ]
    }
   ],
   "source": [
    "# Menampilkan schema datatype tanpa inferSchema\n",
    "df.printSchema() "
   ]
  },
  {
   "cell_type": "code",
   "execution_count": 17,
   "id": "a63677a5-83cc-4153-ad7f-fae9f269aaeb",
   "metadata": {},
   "outputs": [],
   "source": [
    "# Membaca data dengan inferSchema parameter\n",
    "df = spark.read.csv(\"employee.csv\",header=True,inferSchema=True) "
   ]
  },
  {
   "cell_type": "code",
   "execution_count": 18,
   "id": "8b9c2c7d-65f5-4a8d-8172-1058ccd4acb6",
   "metadata": {},
   "outputs": [
    {
     "name": "stdout",
     "output_type": "stream",
     "text": [
      "root\n",
      " |-- employee_id: string (nullable = true)\n",
      " |-- employee_name: string (nullable = true)\n",
      " |-- age: integer (nullable = true)\n",
      " |-- location: string (nullable = true)\n",
      " |-- hours: integer (nullable = true)\n",
      "\n"
     ]
    }
   ],
   "source": [
    "# Menampilkan schema datatype dengan inferSchema\n",
    "df.printSchema()"
   ]
  },
  {
   "cell_type": "code",
   "execution_count": 13,
   "id": "18db1fcc-f219-4b2a-90aa-47c99c05200b",
   "metadata": {},
   "outputs": [
    {
     "data": {
      "text/plain": [
       "['employee_id', 'employee_name', 'age', 'location', 'hours']"
      ]
     },
     "execution_count": 13,
     "metadata": {},
     "output_type": "execute_result"
    }
   ],
   "source": [
    "# Menampilkan list of columns \n",
    "df.columns "
   ]
  },
  {
   "cell_type": "code",
   "execution_count": null,
   "id": "7111db7f-6cb2-4946-a2c2-f47af7d6058c",
   "metadata": {},
   "outputs": [],
   "source": []
  }
 ],
 "metadata": {
  "kernelspec": {
   "display_name": "Python 3 (ipykernel)",
   "language": "python",
   "name": "python3"
  },
  "language_info": {
   "codemirror_mode": {
    "name": "ipython",
    "version": 3
   },
   "file_extension": ".py",
   "mimetype": "text/x-python",
   "name": "python",
   "nbconvert_exporter": "python",
   "pygments_lexer": "ipython3",
   "version": "3.12.3"
  }
 },
 "nbformat": 4,
 "nbformat_minor": 5
}
