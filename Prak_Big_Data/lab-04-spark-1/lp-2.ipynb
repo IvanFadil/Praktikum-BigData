{
 "cells": [
  {
   "cell_type": "code",
   "execution_count": 2,
   "id": "e56dd6c4-0156-4754-9bc9-717543693ee8",
   "metadata": {},
   "outputs": [],
   "source": [
    "#importing SparkSession\n",
    "from pyspark.sql import SparkSession "
   ]
  },
  {
   "cell_type": "code",
   "execution_count": 3,
   "id": "5b3252de-0a20-45c4-8e41-6de54704d7ec",
   "metadata": {},
   "outputs": [
    {
     "name": "stderr",
     "output_type": "stream",
     "text": [
      "24/10/13 21:50:03 WARN Utils: Your hostname, ivan resolves to a loopback address: 127.0.1.1; using 10.0.2.15 instead (on interface enp0s3)\n",
      "24/10/13 21:50:03 WARN Utils: Set SPARK_LOCAL_IP if you need to bind to another address\n",
      "Setting default log level to \"WARN\".\n",
      "To adjust logging level use sc.setLogLevel(newLevel). For SparkR, use setLogLevel(newLevel).\n",
      "24/10/13 21:50:04 WARN NativeCodeLoader: Unable to load native-hadoop library for your platform... using builtin-java classes where applicable\n",
      "24/10/13 21:50:05 WARN Utils: Service 'SparkUI' could not bind on port 4040. Attempting port 4041.\n"
     ]
    }
   ],
   "source": [
    "#creating a Spark Session\n",
    "spark = SparkSession.builder.appName(\"Rows&Columns\").getOrCreate()"
   ]
  },
  {
   "cell_type": "code",
   "execution_count": 4,
   "id": "3fd6b697-9d62-431f-89b7-c09236c32d9a",
   "metadata": {},
   "outputs": [],
   "source": [
    "#reading csv data\n",
    "df = spark.read.csv(\"employee.csv\",header=True,inferSchema=True)"
   ]
  },
  {
   "cell_type": "code",
   "execution_count": 5,
   "id": "930d692c-dcb2-438a-8132-17875f531ca4",
   "metadata": {},
   "outputs": [
    {
     "name": "stdout",
     "output_type": "stream",
     "text": [
      "+-----------+-------------+---+----------+-----+\n",
      "|employee_id|employee_name|age|  location|hours|\n",
      "+-----------+-------------+---+----------+-----+\n",
      "|       G001|       Pichai| 47|California|   14|\n",
      "|       M002|         Bill| 64|Washington|   10|\n",
      "|       A003|         Jeff| 56|Washington|   11|\n",
      "|       A004|         Cook| 59|California|   12|\n",
      "+-----------+-------------+---+----------+-----+\n",
      "\n"
     ]
    },
    {
     "name": "stderr",
     "output_type": "stream",
     "text": [
      "24/10/13 21:50:20 WARN GarbageCollectionMetrics: To enable non-built-in garbage collector(s) List(G1 Concurrent GC), users should configure it(them) to spark.eventLog.gcMetrics.youngGenerationGarbageCollectors or spark.eventLog.gcMetrics.oldGenerationGarbageCollectors\n"
     ]
    }
   ],
   "source": [
    "#displaying the data\n",
    "df.show()"
   ]
  },
  {
   "cell_type": "code",
   "execution_count": 9,
   "id": "c4ba00f3-7c57-4049-bf4a-3b730649e94f",
   "metadata": {},
   "outputs": [
    {
     "name": "stdout",
     "output_type": "stream",
     "text": [
      "Single Column Data\n"
     ]
    }
   ],
   "source": [
    "#accessing the column object age via dataframe\n",
    "df[\"age\"] \n",
    "print(\"Single Column Data\")"
   ]
  },
  {
   "cell_type": "code",
   "execution_count": 10,
   "id": "5e528ad1-5964-4445-bfab-397999ba5b74",
   "metadata": {},
   "outputs": [
    {
     "name": "stdout",
     "output_type": "stream",
     "text": [
      "+---+\n",
      "|age|\n",
      "+---+\n",
      "| 47|\n",
      "| 64|\n",
      "| 56|\n",
      "| 59|\n",
      "+---+\n",
      "\n",
      "Multiple Column Data\n"
     ]
    }
   ],
   "source": [
    "#accessing single column using select, returns a dataframe\n",
    "df.select(\"age\").show() \n",
    "print(\"Multiple Column Data\")"
   ]
  },
  {
   "cell_type": "code",
   "execution_count": 11,
   "id": "a2e8e837-2bb8-4d28-808d-03e2aa0de6da",
   "metadata": {},
   "outputs": [
    {
     "name": "stdout",
     "output_type": "stream",
     "text": [
      "+-------------+---+\n",
      "|employee_name|age|\n",
      "+-------------+---+\n",
      "|       Pichai| 47|\n",
      "|         Bill| 64|\n",
      "|         Jeff| 56|\n",
      "|         Cook| 59|\n",
      "+-------------+---+\n",
      "\n"
     ]
    }
   ],
   "source": [
    "#accessing multiple column using \n",
    "df.select([\"employee_name\",\"age\"]).show()"
   ]
  },
  {
   "cell_type": "code",
   "execution_count": 12,
   "id": "f069e5ad-60e1-4d91-a0b1-2c898cc0506c",
   "metadata": {},
   "outputs": [],
   "source": [
    "#Adding a new column from existing one with some operation\n",
    "df_new = df.withColumn(\"productive_hours\",df[\"hours\"]-3) "
   ]
  },
  {
   "cell_type": "code",
   "execution_count": 14,
   "id": "1edfabdc-1f6f-438d-9f1e-5f9ce9356d27",
   "metadata": {},
   "outputs": [
    {
     "name": "stdout",
     "output_type": "stream",
     "text": [
      "+-----------+-------------+---+----------+-----+----------------+\n",
      "|employee_id|employee_name|age|  location|hours|productive_hours|\n",
      "+-----------+-------------+---+----------+-----+----------------+\n",
      "|       G001|       Pichai| 47|California|   14|              11|\n",
      "|       M002|         Bill| 64|Washington|   10|               7|\n",
      "|       A003|         Jeff| 56|Washington|   11|               8|\n",
      "|       A004|         Cook| 59|California|   12|               9|\n",
      "+-----------+-------------+---+----------+-----+----------------+\n",
      "\n"
     ]
    }
   ],
   "source": [
    "df_new.show()"
   ]
  },
  {
   "cell_type": "code",
   "execution_count": 13,
   "id": "b031a89d-cbff-420a-9fff-ed0820e3e5eb",
   "metadata": {},
   "outputs": [],
   "source": [
    "#Renamed hours to working_hours\n",
    "df_renamed = df_new.withColumnRenamed(\"hours\",\"working_hours\")"
   ]
  },
  {
   "cell_type": "code",
   "execution_count": 15,
   "id": "ffb5ad4c-c955-46f1-a123-c70cca718524",
   "metadata": {},
   "outputs": [
    {
     "name": "stdout",
     "output_type": "stream",
     "text": [
      "+-----------+-------------+---+----------+-------------+----------------+\n",
      "|employee_id|employee_name|age|  location|working_hours|productive_hours|\n",
      "+-----------+-------------+---+----------+-------------+----------------+\n",
      "|       G001|       Pichai| 47|California|           14|              11|\n",
      "|       M002|         Bill| 64|Washington|           10|               7|\n",
      "|       A003|         Jeff| 56|Washington|           11|               8|\n",
      "|       A004|         Cook| 59|California|           12|               9|\n",
      "+-----------+-------------+---+----------+-------------+----------------+\n",
      "\n"
     ]
    }
   ],
   "source": [
    "df_renamed.show()"
   ]
  },
  {
   "cell_type": "code",
   "execution_count": 16,
   "id": "693863f4-3665-419b-8688-741510e8127a",
   "metadata": {},
   "outputs": [
    {
     "name": "stdout",
     "output_type": "stream",
     "text": [
      "Data with the new column productive_hours, hours Column Renamed to working_hours and dropped the location column\n"
     ]
    }
   ],
   "source": [
    "df_final = df_renamed.drop(\"location\") \n",
    "print(\"Data with the new column productive_hours, hours Column Renamed to working_hours and dropped the location column\")"
   ]
  },
  {
   "cell_type": "code",
   "execution_count": 17,
   "id": "689c1871-7a5b-4b76-8b96-3fe7b7a83523",
   "metadata": {},
   "outputs": [
    {
     "name": "stdout",
     "output_type": "stream",
     "text": [
      "+-----------+-------------+---+-------------+----------------+\n",
      "|employee_id|employee_name|age|working_hours|productive_hours|\n",
      "+-----------+-------------+---+-------------+----------------+\n",
      "|       G001|       Pichai| 47|           14|              11|\n",
      "|       M002|         Bill| 64|           10|               7|\n",
      "|       A003|         Jeff| 56|           11|               8|\n",
      "|       A004|         Cook| 59|           12|               9|\n",
      "+-----------+-------------+---+-------------+----------------+\n",
      "\n",
      "First three Data points\n",
      "\n"
     ]
    }
   ],
   "source": [
    "df_final.show()\n",
    "print(\"First three Data points\\n\")"
   ]
  },
  {
   "cell_type": "code",
   "execution_count": 12,
   "id": "b7afcdef-c353-46ab-8375-77e876343c24",
   "metadata": {},
   "outputs": [
    {
     "name": "stdout",
     "output_type": "stream",
     "text": [
      "[Row(employee_id='G001', employee_name='Pichai', age=47, working_hours=14, productive_hours=11), Row(employee_id='M002', employee_name='Bill', age=64, working_hours=10, productive_hours=7), Row(employee_id='A003', employee_name='Jeff', age=56, working_hours=11, productive_hours=8)]\n"
     ]
    }
   ],
   "source": [
    "#Fetching the list of the first 3 values in the dataframe\n",
    "print(df_final.head(3))"
   ]
  },
  {
   "cell_type": "code",
   "execution_count": 13,
   "id": "343b26e9-e749-4802-928a-115cf70f5d8f",
   "metadata": {},
   "outputs": [
    {
     "name": "stdout",
     "output_type": "stream",
     "text": [
      "\n",
      "Summary of Age, Working hours and Productive hours\n"
     ]
    }
   ],
   "source": [
    "print(\"\\nSummary of Age, Working hours and Productive hours\")"
   ]
  },
  {
   "cell_type": "code",
   "execution_count": 14,
   "id": "b0c93e99-caeb-4b8c-84e0-e7be5286d3c1",
   "metadata": {},
   "outputs": [],
   "source": [
    "summary_data = df_final.select([\"age\",\"working_hours\",\"productive_hours\"])"
   ]
  },
  {
   "cell_type": "code",
   "execution_count": 15,
   "id": "701b41cb-5c66-4f3d-864c-b303ef109db3",
   "metadata": {},
   "outputs": [
    {
     "name": "stdout",
     "output_type": "stream",
     "text": [
      "+-------+----------------+-----------------+-----------------+\n",
      "|summary|             age|    working_hours| productive_hours|\n",
      "+-------+----------------+-----------------+-----------------+\n",
      "|  count|               4|                4|                4|\n",
      "|   mean|            56.5|            11.75|             8.75|\n",
      "| stddev|7.14142842854285|1.707825127659933|1.707825127659933|\n",
      "|    min|              47|               10|                7|\n",
      "|    max|              64|               14|               11|\n",
      "+-------+----------------+-----------------+-----------------+\n",
      "\n"
     ]
    }
   ],
   "source": [
    "summary_data.describe().show()"
   ]
  }
 ],
 "metadata": {
  "kernelspec": {
   "display_name": "Python 3 (ipykernel)",
   "language": "python",
   "name": "python3"
  },
  "language_info": {
   "codemirror_mode": {
    "name": "ipython",
    "version": 3
   },
   "file_extension": ".py",
   "mimetype": "text/x-python",
   "name": "python",
   "nbconvert_exporter": "python",
   "pygments_lexer": "ipython3",
   "version": "3.12.3"
  }
 },
 "nbformat": 4,
 "nbformat_minor": 5
}
