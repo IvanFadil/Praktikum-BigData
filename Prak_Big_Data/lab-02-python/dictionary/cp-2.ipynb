{
 "cells": [
  {
   "cell_type": "markdown",
   "id": "eb00e558-63e5-4015-aec2-9c5460ca0208",
   "metadata": {},
   "source": [
    "Python menyediakan banyak metode bawaan untuk bekerja dengan dictionary. Berikut beberapa metode yang umum digunakan dalam dictionary beserta contoh kode programnya:\n",
    "\n",
    "    keys() - Mengembalikan semua kunci (key) dari dictionary sebagai list-like object.\n",
    "    values() - Mengembalikan semua nilai (value) dari dictionary sebagai list-like object.\n",
    "    items() - Mengembalikan semua pasangan key-value sebagai list-like object berupa tuple.\n",
    "    get(key) - Mengembalikan nilai yang terkait dengan kunci tertentu, dan jika kunci tidak ada, mengembalikan None atau nilai default jika disediakan.\n",
    "    pop(key) - Menghapus elemen dengan kunci tertentu dan mengembalikan nilainya.\n",
    "    update(dictionary2) - Menggabungkan dictionary dengan dictionary lain. Jika ada kunci yang sama, nilai pada dictionary asal akan diubah.\n",
    "    clear() - Menghapus semua elemen dalam dictionary.\n",
    "    setdefault(key, default_value) - Mengembalikan nilai untuk kunci yang diberikan jika kunci ada, jika tidak, menetapkan dan mengembalikan nilai default."
   ]
  },
  {
   "cell_type": "markdown",
   "id": "d80df8dd-9f74-4706-bb2a-e55ea5266282",
   "metadata": {},
   "source": [
    "### Contoh Program 2"
   ]
  },
  {
   "cell_type": "code",
   "execution_count": 2,
   "id": "840a477b-987c-497d-8b45-739fa84da118",
   "metadata": {},
   "outputs": [],
   "source": [
    "# Membuat dictionary\n",
    "mahasiswa = {\"nama\": \"Budi\", \"usia\": 21, \"jurusan\": \"Informatika\"}"
   ]
  },
  {
   "cell_type": "code",
   "execution_count": 3,
   "id": "b7f2f463-823a-4589-9b45-9ded6c76dc60",
   "metadata": {},
   "outputs": [
    {
     "name": "stdout",
     "output_type": "stream",
     "text": [
      "dict_keys(['nama', 'usia', 'jurusan'])\n"
     ]
    }
   ],
   "source": [
    "# keys()\n",
    "kunci = mahasiswa.keys()\n",
    "print(kunci)"
   ]
  },
  {
   "cell_type": "code",
   "execution_count": 4,
   "id": "eb648da1-c112-41e5-a087-c4ef22540114",
   "metadata": {},
   "outputs": [
    {
     "name": "stdout",
     "output_type": "stream",
     "text": [
      "dict_values(['Budi', 21, 'Informatika'])\n"
     ]
    }
   ],
   "source": [
    "# values()\n",
    "nilai = mahasiswa.values()\n",
    "print(nilai)"
   ]
  },
  {
   "cell_type": "code",
   "execution_count": 5,
   "id": "2ff83114-8825-475e-997c-9c3722d51f2f",
   "metadata": {},
   "outputs": [
    {
     "name": "stdout",
     "output_type": "stream",
     "text": [
      "dict_items([('nama', 'Budi'), ('usia', 21), ('jurusan', 'Informatika')])\n"
     ]
    }
   ],
   "source": [
    "# items()\n",
    "item = mahasiswa.items()\n",
    "print(item) "
   ]
  },
  {
   "cell_type": "code",
   "execution_count": 6,
   "id": "5bf8755f-24cc-415d-8f17-5a282805ccea",
   "metadata": {},
   "outputs": [
    {
     "name": "stdout",
     "output_type": "stream",
     "text": [
      "21\n"
     ]
    }
   ],
   "source": [
    "# get(key)\n",
    "usia = mahasiswa.get(\"usia\")\n",
    "print(usia)"
   ]
  },
  {
   "cell_type": "code",
   "execution_count": 7,
   "id": "08271a6b-1206-4d6e-8e21-0ef4011a187f",
   "metadata": {},
   "outputs": [
    {
     "name": "stdout",
     "output_type": "stream",
     "text": [
      "Alamat tidak ditemukan\n"
     ]
    }
   ],
   "source": [
    "alamat = mahasiswa.get(\"alamat\", \"Alamat tidak ditemukan\")\n",
    "print(alamat)"
   ]
  },
  {
   "cell_type": "code",
   "execution_count": 8,
   "id": "05b03643-a073-44bf-9cb4-0cc16ade68ed",
   "metadata": {},
   "outputs": [
    {
     "name": "stdout",
     "output_type": "stream",
     "text": [
      "{'nama': 'Budi', 'usia': 22, 'jurusan': 'Informatika'}\n"
     ]
    }
   ],
   "source": [
    "# update(dictionary2)\n",
    "mahasiswa.update({\"jurusan\": \"Informatika\", \"usia\": 22})\n",
    "print(mahasiswa)"
   ]
  },
  {
   "cell_type": "code",
   "execution_count": 9,
   "id": "3c700b05-1f6d-4ee8-a670-3753651563ea",
   "metadata": {},
   "outputs": [
    {
     "name": "stdout",
     "output_type": "stream",
     "text": [
      "22\n",
      "{'nama': 'Budi', 'jurusan': 'Informatika'}\n"
     ]
    }
   ],
   "source": [
    "# pop(key)\n",
    "usia = mahasiswa.pop(\"usia\")\n",
    "print(usia)\n",
    "print(mahasiswa) "
   ]
  },
  {
   "cell_type": "code",
   "execution_count": 10,
   "id": "9b65ffc1-873d-424f-b6d9-2683c2080112",
   "metadata": {},
   "outputs": [
    {
     "name": "stdout",
     "output_type": "stream",
     "text": [
      "Belum ditentukan\n",
      "{'nama': 'Budi', 'usia': 21, 'jurusan': 'Belum ditentukan'}\n"
     ]
    }
   ],
   "source": [
    "# setdefault(key, default_value)\n",
    "mahasiswa = {\"nama\": \"Budi\", \"usia\": 21}\n",
    "jurusan = mahasiswa.setdefault(\"jurusan\", \"Belum ditentukan\")\n",
    "print(jurusan)\n",
    "print(mahasiswa) "
   ]
  },
  {
   "cell_type": "code",
   "execution_count": 11,
   "id": "460f2e93-0153-4fd8-9559-e9db0e804ed3",
   "metadata": {},
   "outputs": [
    {
     "name": "stdout",
     "output_type": "stream",
     "text": [
      "{}\n"
     ]
    }
   ],
   "source": [
    "# clear()\n",
    "mahasiswa.clear()\n",
    "print(mahasiswa)"
   ]
  },
  {
   "cell_type": "code",
   "execution_count": null,
   "id": "2c95bbdc-35af-4a8d-a2db-6a6bd0cde477",
   "metadata": {},
   "outputs": [],
   "source": []
  }
 ],
 "metadata": {
  "kernelspec": {
   "display_name": "Python 3 (ipykernel)",
   "language": "python",
   "name": "python3"
  },
  "language_info": {
   "codemirror_mode": {
    "name": "ipython",
    "version": 3
   },
   "file_extension": ".py",
   "mimetype": "text/x-python",
   "name": "python",
   "nbconvert_exporter": "python",
   "pygments_lexer": "ipython3",
   "version": "3.12.3"
  }
 },
 "nbformat": 4,
 "nbformat_minor": 5
}
