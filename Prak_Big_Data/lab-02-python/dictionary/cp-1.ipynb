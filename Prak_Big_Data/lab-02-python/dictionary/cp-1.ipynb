{
 "cells": [
  {
   "cell_type": "markdown",
   "id": "4d4e4ac9-5f57-4c69-bddc-e5e47b03263b",
   "metadata": {},
   "source": [
    "# 5. Dictionary"
   ]
  },
  {
   "cell_type": "markdown",
   "id": "ae8b9842-f5af-4501-9a3a-b9dbaf6e77ef",
   "metadata": {},
   "source": [
    "## Penjelasan\n",
    "\n",
    "Dictionary adalah tipe data di Python yang menyimpan data dalam bentuk pasangan key-value. Kunci (key) harus bersifat unik, dan nilainya (value) dapat berupa tipe data apapun. Dictionary di Python didefinisikan menggunakan tanda kurung kurawal {}."
   ]
  },
  {
   "cell_type": "markdown",
   "id": "6d9b97c3-e0f8-45c1-bf68-6ebf59b1528f",
   "metadata": {},
   "source": [
    "### Contoh Program 1"
   ]
  },
  {
   "cell_type": "code",
   "execution_count": 1,
   "id": "543021c2-a44f-4da8-a03d-2aa116fd5a11",
   "metadata": {},
   "outputs": [],
   "source": [
    "# Membuat dictionary dengan kunci dan nilai\n",
    "mahasiswa = {\"nama\": \"Budi\", \"usia\": 21, \"jurusan\": \"Informatika\"}"
   ]
  },
  {
   "cell_type": "code",
   "execution_count": 2,
   "id": "d56e2b58-a82a-492b-9287-258f11a7c0d9",
   "metadata": {},
   "outputs": [
    {
     "name": "stdout",
     "output_type": "stream",
     "text": [
      "Budi\n",
      "Nama: Budi\n"
     ]
    }
   ],
   "source": [
    "# Akses nilai berdasarkan kunci\n",
    "print(mahasiswa[\"nama\"])  \n",
    "print(\"Nama:\", mahasiswa[\"nama\"])"
   ]
  },
  {
   "cell_type": "code",
   "execution_count": 3,
   "id": "f972d8b7-42f2-4d01-a61d-b936b9b2d985",
   "metadata": {},
   "outputs": [],
   "source": [
    "# Menambah dan mengubah nilai dalam dictionary\n",
    "mahasiswa = {\"nama\": \"Budi\", \"usia\": 21}\n",
    "mahasiswa[\"jurusan\"] = \"Informatika\"  \n",
    "mahasiswa[\"usia\"] = 22 "
   ]
  },
  {
   "cell_type": "code",
   "execution_count": 4,
   "id": "e16d2b09-a209-4070-a6cf-bfc9d97731be",
   "metadata": {},
   "outputs": [
    {
     "name": "stdout",
     "output_type": "stream",
     "text": [
      "{'nama': 'Budi', 'usia': 22, 'jurusan': 'Informatika'}\n"
     ]
    }
   ],
   "source": [
    "print(mahasiswa)"
   ]
  },
  {
   "cell_type": "code",
   "execution_count": 5,
   "id": "898d58f6-c658-4f53-8b6e-852bcf9b90e9",
   "metadata": {},
   "outputs": [],
   "source": [
    "# Menghapus elemen dalam dictionary\n",
    "mahasiswa = {\"nama\": \"Budi\", \"usia\": 21, \"jurusan\": \"Informatika\"}\n",
    "del mahasiswa[\"usia\"]  "
   ]
  },
  {
   "cell_type": "code",
   "execution_count": 6,
   "id": "6e605a43-a887-4d66-b987-8df307d1946c",
   "metadata": {},
   "outputs": [
    {
     "name": "stdout",
     "output_type": "stream",
     "text": [
      "{'nama': 'Budi', 'jurusan': 'Informatika'}\n"
     ]
    }
   ],
   "source": [
    "print(mahasiswa) "
   ]
  },
  {
   "cell_type": "code",
   "execution_count": 7,
   "id": "cd9374df-3fbc-403e-a380-2815646dad3f",
   "metadata": {},
   "outputs": [],
   "source": [
    "# Menghapus menggunakan pop\n",
    "jurusan = mahasiswa.pop(\"jurusan\")"
   ]
  },
  {
   "cell_type": "code",
   "execution_count": 9,
   "id": "a091d58a-eb15-4b5c-b732-8251970735ce",
   "metadata": {},
   "outputs": [
    {
     "name": "stdout",
     "output_type": "stream",
     "text": [
      "Informatika\n"
     ]
    }
   ],
   "source": [
    "print(jurusan)"
   ]
  },
  {
   "cell_type": "code",
   "execution_count": 10,
   "id": "f7447044-a874-4927-a3df-f8f18b5714d6",
   "metadata": {},
   "outputs": [
    {
     "name": "stdout",
     "output_type": "stream",
     "text": [
      "nama: Budi\n",
      "usia: 21\n",
      "jurusan: Informatika\n"
     ]
    }
   ],
   "source": [
    "# looping pada dictionary\n",
    "mahasiswa = {\"nama\": \"Budi\", \"usia\": 21, \"jurusan\": \"Informatika\"}\n",
    "for kunci, nilai in mahasiswa.items():\n",
    "    print(f\"{kunci}: {nilai}\")"
   ]
  },
  {
   "cell_type": "code",
   "execution_count": null,
   "id": "d55d9130-9ea6-4ae9-98f4-5c708cc819e2",
   "metadata": {},
   "outputs": [],
   "source": []
  },
  {
   "cell_type": "code",
   "execution_count": null,
   "id": "778e9cd3-0a62-44ea-a91a-0de88bc599f5",
   "metadata": {},
   "outputs": [],
   "source": []
  }
 ],
 "metadata": {
  "kernelspec": {
   "display_name": "Python 3 (ipykernel)",
   "language": "python",
   "name": "python3"
  },
  "language_info": {
   "codemirror_mode": {
    "name": "ipython",
    "version": 3
   },
   "file_extension": ".py",
   "mimetype": "text/x-python",
   "name": "python",
   "nbconvert_exporter": "python",
   "pygments_lexer": "ipython3",
   "version": "3.12.3"
  }
 },
 "nbformat": 4,
 "nbformat_minor": 5
}
