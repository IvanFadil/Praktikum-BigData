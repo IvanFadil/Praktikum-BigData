{
 "cells": [
  {
   "cell_type": "markdown",
   "id": "ba0bdfcf-293b-49f9-981d-830da7c9e9ef",
   "metadata": {},
   "source": [
    "Python menyediakan banyak metode bawaan untuk bekerja dengan list. Berikut adalah beberapa metode yang sering digunakan pada list beserta contoh programnya.\n",
    "\n",
    "    append(item) - Menambahkan elemen baru ke akhir list.\n",
    "    insert(index, item) - Menambahkan elemen pada indeks tertentu.\n",
    "    remove(item) - Menghapus elemen pertama yang ditemukan dengan nilai yang diberikan.\n",
    "    pop(index) - Menghapus elemen pada indeks tertentu dan mengembalikan elemen tersebut. Jika indeks tidak disebutkan, elemen terakhir akan dihapus.\n",
    "    sort() - Mengurutkan elemen-elemen dalam list secara ascending.\n",
    "    reverse() - Membalik urutan elemen dalam list.\n",
    "    index(item) - Mengembalikan indeks dari elemen pertama yang ditemukan dengan nilai yang diberikan.\n",
    "    count(item) - Menghitung berapa kali elemen muncul dalam list.\n",
    "    clear() - Menghapus semua elemen dalam list."
   ]
  },
  {
   "cell_type": "markdown",
   "id": "d6c70847-ab44-4cce-91ca-7539927076f8",
   "metadata": {},
   "source": [
    "### Contoh Program 2"
   ]
  },
  {
   "cell_type": "code",
   "execution_count": 1,
   "id": "03163766-a15e-4ce2-8e53-6c248db89d5d",
   "metadata": {},
   "outputs": [],
   "source": [
    "# Membuat list\n",
    "buah = [\"apel\", \"jeruk\", \"mangga\", \"pisang\"]"
   ]
  },
  {
   "cell_type": "code",
   "execution_count": 2,
   "id": "59341616-00d4-48fb-a0d0-73d498c45e47",
   "metadata": {},
   "outputs": [
    {
     "name": "stdout",
     "output_type": "stream",
     "text": [
      "['apel', 'jeruk', 'mangga', 'pisang', 'kelapa']\n"
     ]
    }
   ],
   "source": [
    "# append(item)\n",
    "buah.append(\"kelapa\")\n",
    "print(buah)  "
   ]
  },
  {
   "cell_type": "code",
   "execution_count": 3,
   "id": "45fcfd66-fba0-41dd-bedd-dcdfae99fee1",
   "metadata": {},
   "outputs": [
    {
     "name": "stdout",
     "output_type": "stream",
     "text": [
      "['apel', 'anggur', 'jeruk', 'mangga', 'pisang', 'kelapa']\n"
     ]
    }
   ],
   "source": [
    "# insert(index, item)\n",
    "buah.insert(1, \"anggur\")\n",
    "print(buah)"
   ]
  },
  {
   "cell_type": "code",
   "execution_count": 4,
   "id": "fd204aa1-50c5-41e0-8653-712436e21228",
   "metadata": {},
   "outputs": [
    {
     "name": "stdout",
     "output_type": "stream",
     "text": [
      "['anggur', 'jeruk', 'mangga', 'pisang', 'kelapa']\n"
     ]
    }
   ],
   "source": [
    "# remove(item)\n",
    "buah.remove(\"apel\")\n",
    "print(buah)"
   ]
  },
  {
   "cell_type": "code",
   "execution_count": 5,
   "id": "a13e1ce3-e028-4983-b923-b0e4564ed840",
   "metadata": {},
   "outputs": [
    {
     "name": "stdout",
     "output_type": "stream",
     "text": [
      "kelapa\n",
      "['anggur', 'jeruk', 'mangga', 'pisang']\n"
     ]
    }
   ],
   "source": [
    "# pop(index)\n",
    "buah_terakhir = buah.pop()\n",
    "print(buah_terakhir)\n",
    "print(buah)"
   ]
  },
  {
   "cell_type": "code",
   "execution_count": 6,
   "id": "35d0047c-035d-4e11-8849-e81cdd9f4f8b",
   "metadata": {},
   "outputs": [
    {
     "name": "stdout",
     "output_type": "stream",
     "text": [
      "[1, 1, 3, 4, 5, 9]\n"
     ]
    }
   ],
   "source": [
    "# sort()\n",
    "angka = [3, 1, 4, 1, 5, 9]\n",
    "angka.sort() \n",
    "print(angka)"
   ]
  },
  {
   "cell_type": "code",
   "execution_count": 7,
   "id": "59696153-caf9-4216-b94e-4dbb8feb642f",
   "metadata": {},
   "outputs": [
    {
     "name": "stdout",
     "output_type": "stream",
     "text": [
      "[9, 5, 4, 3, 1, 1]\n"
     ]
    }
   ],
   "source": [
    "# reverse()\n",
    "angka.reverse()\n",
    "print(angka)"
   ]
  },
  {
   "cell_type": "code",
   "execution_count": 8,
   "id": "1c2d1d28-4e33-4e70-b4bd-fdfa5d1f872f",
   "metadata": {},
   "outputs": [
    {
     "name": "stdout",
     "output_type": "stream",
     "text": [
      "1\n"
     ]
    }
   ],
   "source": [
    "# index(item)\n",
    "indeks = buah.index(\"jeruk\")\n",
    "print(indeks)"
   ]
  },
  {
   "cell_type": "code",
   "execution_count": 9,
   "id": "0ea0f407-ad80-4994-b349-8eb45a2860ce",
   "metadata": {},
   "outputs": [
    {
     "name": "stdout",
     "output_type": "stream",
     "text": [
      "3\n"
     ]
    }
   ],
   "source": [
    "# count(item)\n",
    "merek_mobil = [\"honda\", \"toyota\", \"honda\", \"mazda\", \"honda\"]\n",
    "jumlah_merek = merek_mobil.count(\"honda\")\n",
    "print(jumlah_merek)"
   ]
  },
  {
   "cell_type": "code",
   "execution_count": 10,
   "id": "4f34335a-ec0b-4cea-bb50-098535f3378e",
   "metadata": {},
   "outputs": [
    {
     "name": "stdout",
     "output_type": "stream",
     "text": [
      "[]\n"
     ]
    }
   ],
   "source": [
    "# clear()\n",
    "produk = [\"baju\", \"sepatu\", \"celana\", \"kaos kaki\"]\n",
    "produk.clear() \n",
    "print(produk)"
   ]
  }
 ],
 "metadata": {
  "kernelspec": {
   "display_name": "Python 3 (ipykernel)",
   "language": "python",
   "name": "python3"
  },
  "language_info": {
   "codemirror_mode": {
    "name": "ipython",
    "version": 3
   },
   "file_extension": ".py",
   "mimetype": "text/x-python",
   "name": "python",
   "nbconvert_exporter": "python",
   "pygments_lexer": "ipython3",
   "version": "3.12.3"
  }
 },
 "nbformat": 4,
 "nbformat_minor": 5
}
