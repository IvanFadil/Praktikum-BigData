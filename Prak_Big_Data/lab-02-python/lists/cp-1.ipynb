{
 "cells": [
  {
   "cell_type": "markdown",
   "id": "f13b93bb-4294-4e5c-a0ec-4e2da96a9f29",
   "metadata": {},
   "source": [
    "# Lists"
   ]
  },
  {
   "cell_type": "markdown",
   "id": "d4c0963d-8dd0-4ff7-8341-370e60c3f420",
   "metadata": {},
   "source": [
    "## Penjelasan\n",
    "\n",
    "List adalah struktur data yang menyimpan urutan elemen yang dapat diubah (mutable). Elemen-elemen dalam list dipisahkan oleh koma dan diletakkan dalam tanda kurung siku []."
   ]
  },
  {
   "cell_type": "markdown",
   "id": "cf9c6136-6acc-4a99-99c0-78da82078938",
   "metadata": {},
   "source": [
    "### Contoh Program 1"
   ]
  },
  {
   "cell_type": "code",
   "execution_count": 2,
   "id": "f37ae9d0-cf47-445f-aba6-718cdf3ae30d",
   "metadata": {},
   "outputs": [],
   "source": [
    "# Membuat List\n",
    "kosong = [] # Membuat list kosong"
   ]
  },
  {
   "cell_type": "code",
   "execution_count": 3,
   "id": "f6493905-13d3-49d7-aebd-5660937d1128",
   "metadata": {},
   "outputs": [],
   "source": [
    "# Membuat list dengan elemen-elemen\n",
    "buah = [\"apel\", \"pisang\", \"jeruk\"]\n",
    "angka = [1, 2, 3, 4, 5]\n",
    "campuran = [1, \"Python\", True]"
   ]
  },
  {
   "cell_type": "code",
   "execution_count": 4,
   "id": "c8668cf7-1cf7-4af1-bd01-6d8f1460e6c3",
   "metadata": {},
   "outputs": [
    {
     "name": "stdout",
     "output_type": "stream",
     "text": [
      "apel\n",
      "jeruk\n"
     ]
    }
   ],
   "source": [
    "# Mengakses element list\n",
    "buah = [\"apel\", \"pisang\", \"jeruk\"]\n",
    "print(buah[0])  # Mengakses elemen pertama (Output: apel)\n",
    "print(buah[2])  # Mengakses elemen ketiga (Output: jeruk)"
   ]
  },
  {
   "cell_type": "code",
   "execution_count": 5,
   "id": "f156db57-f212-4fea-9e65-a51436dc47f2",
   "metadata": {},
   "outputs": [
    {
     "name": "stdout",
     "output_type": "stream",
     "text": [
      "['apel', 'mangga', 'jeruk']\n"
     ]
    }
   ],
   "source": [
    "# Mengubah nilai elemen list\n",
    "buah = [\"apel\", \"pisang\", \"jeruk\"]\n",
    "buah[1] = \"mangga\"  # Mengubah nilai elemen kedua\n",
    "print(buah)  # Output: ['apel', 'mangga', 'jeruk']"
   ]
  },
  {
   "cell_type": "code",
   "execution_count": 6,
   "id": "cc60bab9-5eea-48aa-85f1-530a64108157",
   "metadata": {},
   "outputs": [
    {
     "name": "stdout",
     "output_type": "stream",
     "text": [
      "['apel', 'pisang', 'jeruk', 'mangga']\n"
     ]
    }
   ],
   "source": [
    "# Menambah dan menghapus elemen\n",
    "buah = [\"apel\", \"pisang\", \"jeruk\"]\n",
    "buah.append(\"mangga\")  # Menambah elemen ke akhir list\n",
    "print(buah)  # Output: ['apel', 'pisang', 'jeruk', 'mangga']"
   ]
  },
  {
   "cell_type": "code",
   "execution_count": 7,
   "id": "52dfc2c4-8563-4bbd-af02-7df9906ced1d",
   "metadata": {},
   "outputs": [
    {
     "name": "stdout",
     "output_type": "stream",
     "text": [
      "['apel', 'jeruk', 'mangga']\n"
     ]
    }
   ],
   "source": [
    "buah.remove(\"pisang\")  # Menghapus elemen berdasarkan nilai\n",
    "print(buah)  # Output: ['apel', 'jeruk', 'mangga']"
   ]
  },
  {
   "cell_type": "code",
   "execution_count": 8,
   "id": "52a31320-57a9-4e89-a93f-d0e03fee93d5",
   "metadata": {},
   "outputs": [
    {
     "name": "stdout",
     "output_type": "stream",
     "text": [
      "['jeruk', 'mangga']\n"
     ]
    }
   ],
   "source": [
    "del buah[0]  # Menghapus elemen pertama\n",
    "print(buah)  # Output: ['jeruk', 'mangga']"
   ]
  },
  {
   "cell_type": "code",
   "execution_count": 9,
   "id": "fd28b1cf-7804-495e-bc9e-47ef5ae924df",
   "metadata": {},
   "outputs": [
    {
     "name": "stdout",
     "output_type": "stream",
     "text": [
      "apel\n",
      "pisang\n",
      "jeruk\n"
     ]
    }
   ],
   "source": [
    "# Looping pada list\n",
    "buah = [\"apel\", \"pisang\", \"jeruk\"]\n",
    "for item in buah:\n",
    "    print(item)"
   ]
  },
  {
   "cell_type": "code",
   "execution_count": null,
   "id": "a7973b48-58fa-46a1-bbcb-09b22d45e879",
   "metadata": {},
   "outputs": [],
   "source": []
  }
 ],
 "metadata": {
  "kernelspec": {
   "display_name": "Python 3 (ipykernel)",
   "language": "python",
   "name": "python3"
  },
  "language_info": {
   "codemirror_mode": {
    "name": "ipython",
    "version": 3
   },
   "file_extension": ".py",
   "mimetype": "text/x-python",
   "name": "python",
   "nbconvert_exporter": "python",
   "pygments_lexer": "ipython3",
   "version": "3.12.3"
  }
 },
 "nbformat": 4,
 "nbformat_minor": 5
}
