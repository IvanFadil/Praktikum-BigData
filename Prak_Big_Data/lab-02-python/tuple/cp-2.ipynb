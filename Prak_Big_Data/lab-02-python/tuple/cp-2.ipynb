{
 "cells": [
  {
   "cell_type": "markdown",
   "id": "6c26ff3a-6d43-48ed-b880-e2897456fe44",
   "metadata": {},
   "source": [
    "### Metode Built-in Tuple di Python\n"
   ]
  },
  {
   "cell_type": "markdown",
   "id": "2740c31d-5c5f-4313-bcb2-848d67119421",
   "metadata": {},
   "source": [
    "Tuple, meskipun immutable, memiliki beberapa metode bawaan yang berguna.\n",
    "\n",
    "    count() - Metode ini menghitung berapa kali suatu elemen muncul dalam tuple.\n",
    "    index() - Metode ini mengembalikan indeks dari elemen pertama yang ditemukan dengan nilai tertentu.\n",
    "\n",
    "Selain itu, karena tuple bersifat immutable, hanya ada dua metode bawaan ini. Namun, tuple mendukung banyak operasi umum yang juga bisa digunakan pada tipe data terurut lainnya, seperti slicing, concatenation, dan iterasi."
   ]
  },
  {
   "cell_type": "markdown",
   "id": "58ecb88a-e542-493f-9065-490c38a0709d",
   "metadata": {},
   "source": [
    "### Contoh Program 2"
   ]
  },
  {
   "cell_type": "code",
   "execution_count": 2,
   "id": "f04960ec-3d96-4071-b18b-59b5ea327ba5",
   "metadata": {},
   "outputs": [],
   "source": [
    "# count()\n",
    "angka = (1, 2, 3, 4, 2, 5, 2)\n",
    "jumlah_dua = angka.count(2)  # Menghitung jumlah kemunculan elemen '2'"
   ]
  },
  {
   "cell_type": "code",
   "execution_count": 3,
   "id": "88c96720-7fef-4879-8760-d1465df1fa3f",
   "metadata": {},
   "outputs": [
    {
     "name": "stdout",
     "output_type": "stream",
     "text": [
      "3\n"
     ]
    }
   ],
   "source": [
    "print(jumlah_dua)  # Output: 3"
   ]
  },
  {
   "cell_type": "code",
   "execution_count": 4,
   "id": "54e73400-18ca-40c0-9beb-e9d821938873",
   "metadata": {},
   "outputs": [],
   "source": [
    "# index()\n",
    "buah = (\"apel\", \"mangga\", \"jeruk\")\n",
    "indeks_mangga = buah.index(\"mangga\")  # Mencari indeks 'mangga'"
   ]
  },
  {
   "cell_type": "code",
   "execution_count": 5,
   "id": "b4d00344-f39c-4dd7-b798-4fe7cba8c7ef",
   "metadata": {},
   "outputs": [
    {
     "name": "stdout",
     "output_type": "stream",
     "text": [
      "1\n"
     ]
    }
   ],
   "source": [
    "print(indeks_mangga)  # Output: 1"
   ]
  },
  {
   "cell_type": "markdown",
   "id": "f3a4f2bf-7a32-407d-a10c-c73ab806a6f3",
   "metadata": {},
   "source": [
    "### Contoh Program 3"
   ]
  },
  {
   "cell_type": "code",
   "execution_count": 6,
   "id": "8abce96c-7da9-42aa-bbec-017cdb7051f2",
   "metadata": {},
   "outputs": [
    {
     "name": "stdout",
     "output_type": "stream",
     "text": [
      "(1, 2, 3, 4, 5, 6)\n"
     ]
    }
   ],
   "source": [
    "# Menggabungkan Tuple\n",
    "tuple1 = (1, 2, 3)\n",
    "tuple2 = (4, 5, 6)\n",
    "gabungan = tuple1 + tuple2\n",
    "print(gabungan)"
   ]
  },
  {
   "cell_type": "code",
   "execution_count": 7,
   "id": "f5987404-83b8-4843-a8af-20b797394eab",
   "metadata": {},
   "outputs": [
    {
     "name": "stdout",
     "output_type": "stream",
     "text": [
      "(1, 2, 3, 1, 2, 3, 1, 2, 3)\n"
     ]
    }
   ],
   "source": [
    "# Menggandakan Tuple\n",
    "hasil = tuple1 * 3\n",
    "print(hasil) \n"
   ]
  },
  {
   "cell_type": "code",
   "execution_count": 8,
   "id": "55b9f331-647f-4960-bc77-1ece435b77fd",
   "metadata": {},
   "outputs": [
    {
     "name": "stdout",
     "output_type": "stream",
     "text": [
      "(2, 3, 4)\n"
     ]
    }
   ],
   "source": [
    "# Slicing Tuple\n",
    "angka = (1, 2, 3, 4, 5)\n",
    "potongan = angka[1:4]  # Mengambil elemen dari indeks 1 sampai 3\n",
    "print(potongan)"
   ]
  },
  {
   "cell_type": "code",
   "execution_count": 9,
   "id": "8f335bc9-9852-4df4-a001-9063bc8cc7e9",
   "metadata": {},
   "outputs": [
    {
     "name": "stdout",
     "output_type": "stream",
     "text": [
      "apel\n",
      "jeruk\n",
      "mangga\n"
     ]
    }
   ],
   "source": [
    "\n",
    "# Mengiterasi tuple\n",
    "buah = (\"apel\", \"jeruk\", \"mangga\")\n",
    "for item in buah:\n",
    "    print(item)"
   ]
  },
  {
   "cell_type": "code",
   "execution_count": 10,
   "id": "a6e2a890-7920-4dc8-9736-9361e7f4018c",
   "metadata": {},
   "outputs": [
    {
     "name": "stdout",
     "output_type": "stream",
     "text": [
      "(3, 4)\n",
      "4\n"
     ]
    }
   ],
   "source": [
    "# Nested tuple\n",
    "nested_tuple = (1, 2, (3, 4), (5, 6))\n",
    "print(nested_tuple[2])\n",
    "print(nested_tuple[2][1])"
   ]
  },
  {
   "cell_type": "code",
   "execution_count": null,
   "id": "1935679a-305d-46fd-b261-4d82ebab5d3c",
   "metadata": {},
   "outputs": [],
   "source": []
  }
 ],
 "metadata": {
  "kernelspec": {
   "display_name": "Python 3 (ipykernel)",
   "language": "python",
   "name": "python3"
  },
  "language_info": {
   "codemirror_mode": {
    "name": "ipython",
    "version": 3
   },
   "file_extension": ".py",
   "mimetype": "text/x-python",
   "name": "python",
   "nbconvert_exporter": "python",
   "pygments_lexer": "ipython3",
   "version": "3.12.3"
  }
 },
 "nbformat": 4,
 "nbformat_minor": 5
}
