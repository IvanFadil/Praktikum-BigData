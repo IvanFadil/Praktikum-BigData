{
 "cells": [
  {
   "cell_type": "markdown",
   "id": "d380ff4d-ec6c-4fa4-9a54-797f6725c4df",
   "metadata": {},
   "source": [
    "### Contoh Program 1"
   ]
  },
  {
   "cell_type": "code",
   "execution_count": 1,
   "id": "3d38b3c9-36c4-4977-991e-e283b4608db8",
   "metadata": {},
   "outputs": [],
   "source": [
    "# Membuat tuple kosong\n",
    "tuple_kosong = ()"
   ]
  },
  {
   "cell_type": "code",
   "execution_count": 2,
   "id": "21305dcb-ac8c-4649-9e24-6da827b7af82",
   "metadata": {},
   "outputs": [],
   "source": [
    "# Membuat tuple dengan satu elemen (harus diikuti oleh koma)\n",
    "tuple_satu_elemen = (5,)"
   ]
  },
  {
   "cell_type": "code",
   "execution_count": 3,
   "id": "ae2aae6c-b854-4611-97c5-30c7c4f4053f",
   "metadata": {},
   "outputs": [],
   "source": [
    "# Membuat tuple dengan beberapa elemen\n",
    "buah = (\"apel\", \"mangga\", \"jeruk\")\n",
    "angka = (1, 2, 3, 4, 5)\n",
    "campuran = (1, \"Python\", 3.14, True)"
   ]
  },
  {
   "cell_type": "code",
   "execution_count": 4,
   "id": "c681acad-81f4-4bac-afc7-755381eb2ff7",
   "metadata": {},
   "outputs": [
    {
     "name": "stdout",
     "output_type": "stream",
     "text": [
      "apel\n",
      "jeruk\n"
     ]
    }
   ],
   "source": [
    "# Mengakses elemen pada tupel\n",
    "print(buah[0])  # Mengakses elemen pertama (Output: apel)\n",
    "print(buah[2])  # Mengakses elemen ketiga (Output: jeruk)"
   ]
  },
  {
   "cell_type": "code",
   "execution_count": 5,
   "id": "eb9abd13-9807-4994-8cb1-5ca1b449e91f",
   "metadata": {},
   "outputs": [
    {
     "ename": "TypeError",
     "evalue": "'tuple' object does not support item assignment",
     "output_type": "error",
     "traceback": [
      "\u001b[0;31m---------------------------------------------------------------------------\u001b[0m",
      "\u001b[0;31mTypeError\u001b[0m                                 Traceback (most recent call last)",
      "Cell \u001b[0;32mIn[5], line 2\u001b[0m\n\u001b[1;32m      1\u001b[0m \u001b[38;5;66;03m# Tuple bersifat immutable\u001b[39;00m\n\u001b[0;32m----> 2\u001b[0m \u001b[43mbuah\u001b[49m\u001b[43m[\u001b[49m\u001b[38;5;241;43m1\u001b[39;49m\u001b[43m]\u001b[49m \u001b[38;5;241m=\u001b[39m \u001b[38;5;124m\"\u001b[39m\u001b[38;5;124mpisang\u001b[39m\u001b[38;5;124m\"\u001b[39m  \u001b[38;5;66;03m# Ini akan menghasilkan error karena tuple immutable\u001b[39;00m\n",
      "\u001b[0;31mTypeError\u001b[0m: 'tuple' object does not support item assignment"
     ]
    }
   ],
   "source": [
    "# Tuple bersifat immutable\n",
    "buah[1] = \"pisang\"  # Ini akan menghasilkan error karena tuple immutable"
   ]
  },
  {
   "cell_type": "code",
   "execution_count": 6,
   "id": "322b1f5c-36c3-4eea-a643-130a36ea8381",
   "metadata": {},
   "outputs": [
    {
     "ename": "SyntaxError",
     "evalue": "incomplete input (2339338117.py, line 2)",
     "output_type": "error",
     "traceback": [
      "\u001b[0;36m  Cell \u001b[0;32mIn[6], line 2\u001b[0;36m\u001b[0m\n\u001b[0;31m    \"\"\"Packing adalah proses memasukkan beberapa nilai ke dalam tuple, sementara\u001b[0m\n\u001b[0m    ^\u001b[0m\n\u001b[0;31mSyntaxError\u001b[0m\u001b[0;31m:\u001b[0m incomplete input\n"
     ]
    }
   ],
   "source": [
    "# packing dan unpacking tuple\n",
    "\"\"\"Packing adalah proses memasukkan beberapa nilai ke dalam tuple, sementara "
   ]
  },
  {
   "cell_type": "code",
   "execution_count": 7,
   "id": "2886b9cf-d77d-4772-89d9-bc3e4490e049",
   "metadata": {},
   "outputs": [],
   "source": [
    "# Packing tuple\n",
    "t = (\"apel\", \"jeruk\", \"mangga\")"
   ]
  },
  {
   "cell_type": "code",
   "execution_count": 8,
   "id": "e2f8cde7-1c54-4e00-bc21-834a7ace76f2",
   "metadata": {},
   "outputs": [
    {
     "name": "stdout",
     "output_type": "stream",
     "text": [
      "apel\n",
      "jeruk\n",
      "mangga\n"
     ]
    }
   ],
   "source": [
    "# Unpacking tuple\n",
    "buah1, buah2, buah3 = t\n",
    "print(buah1)  # Output: apel\n",
    "print(buah2)  # Output: jeruk\n",
    "print(buah3)  # Output: mangga"
   ]
  },
  {
   "cell_type": "code",
   "execution_count": null,
   "id": "11cba2ec-0710-421c-810a-a101b155f8bd",
   "metadata": {},
   "outputs": [],
   "source": []
  }
 ],
 "metadata": {
  "kernelspec": {
   "display_name": "Python 3 (ipykernel)",
   "language": "python",
   "name": "python3"
  },
  "language_info": {
   "codemirror_mode": {
    "name": "ipython",
    "version": 3
   },
   "file_extension": ".py",
   "mimetype": "text/x-python",
   "name": "python",
   "nbconvert_exporter": "python",
   "pygments_lexer": "ipython3",
   "version": "3.12.3"
  }
 },
 "nbformat": 4,
 "nbformat_minor": 5
}
