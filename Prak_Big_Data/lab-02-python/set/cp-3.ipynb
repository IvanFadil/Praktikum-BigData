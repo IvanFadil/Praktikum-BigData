{
 "cells": [
  {
   "cell_type": "markdown",
   "id": "0ed167b1-c34b-44f0-9f98-f767a7acaf3a",
   "metadata": {},
   "source": [
    "## Metode built in pada set\n",
    "\n",
    "### Contoh Program 3\n"
   ]
  },
  {
   "cell_type": "code",
   "execution_count": 1,
   "id": "6137d045-3496-4501-a2a5-1d2b4fbc69d6",
   "metadata": {},
   "outputs": [
    {
     "name": "stdout",
     "output_type": "stream",
     "text": [
      "{1, 2, 3, 4}\n"
     ]
    }
   ],
   "source": [
    "# add(): Menambahkan satu elemen ke dalam set.\n",
    "set_a = {1, 2, 3}\n",
    "set_a.add(4)\n",
    "print(set_a)  "
   ]
  },
  {
   "cell_type": "code",
   "execution_count": 2,
   "id": "6fff6c33-7f43-4de3-a167-ca65a1b3509c",
   "metadata": {},
   "outputs": [
    {
     "name": "stdout",
     "output_type": "stream",
     "text": [
      "{1, 2, 4}\n"
     ]
    }
   ],
   "source": [
    "# remove(): Menghapus elemen tertentu, menghasilkan error jika elemen tidak ditemukan.\n",
    "set_a.remove(3)\n",
    "print(set_a) "
   ]
  },
  {
   "cell_type": "code",
   "execution_count": 3,
   "id": "63d3fcae-c0e9-4f73-b806-afd1207d4ae6",
   "metadata": {},
   "outputs": [
    {
     "name": "stdout",
     "output_type": "stream",
     "text": [
      "{1, 2, 4}\n"
     ]
    }
   ],
   "source": [
    "# discard(): Menghapus elemen tertentu tanpa error jika elemen tidak ditemukan.\n",
    "set_a.discard(5)\n",
    "print(set_a) "
   ]
  },
  {
   "cell_type": "code",
   "execution_count": 4,
   "id": "591e474f-0ab5-42a6-a961-a3801264be86",
   "metadata": {},
   "outputs": [
    {
     "name": "stdout",
     "output_type": "stream",
     "text": [
      "set()\n"
     ]
    }
   ],
   "source": [
    "# clear(): Menghapus semua elemen dari set.\n",
    "set_a.clear()\n",
    "print(set_a)"
   ]
  },
  {
   "cell_type": "code",
   "execution_count": null,
   "id": "db1ab685-986a-4a59-b2a6-03a4cfb9be07",
   "metadata": {},
   "outputs": [],
   "source": []
  }
 ],
 "metadata": {
  "kernelspec": {
   "display_name": "Python 3 (ipykernel)",
   "language": "python",
   "name": "python3"
  },
  "language_info": {
   "codemirror_mode": {
    "name": "ipython",
    "version": 3
   },
   "file_extension": ".py",
   "mimetype": "text/x-python",
   "name": "python",
   "nbconvert_exporter": "python",
   "pygments_lexer": "ipython3",
   "version": "3.12.3"
  }
 },
 "nbformat": 4,
 "nbformat_minor": 5
}
