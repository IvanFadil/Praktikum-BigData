{
 "cells": [
  {
   "cell_type": "markdown",
   "id": "7adfb97e-d126-46bf-a79c-7153fcf3c23d",
   "metadata": {},
   "source": [
    "## Operasi Matematika pada Set:\n",
    "Set mendukung berbagai operasi seperti union (gabungan), intersection (irisan), difference (selisih), dan symmetric difference (selisih simetris)."
   ]
  },
  {
   "cell_type": "markdown",
   "id": "9608c410-653e-4e86-866c-49bd006da0a0",
   "metadata": {},
   "source": [
    "### Contoh Program 2 "
   ]
  },
  {
   "cell_type": "code",
   "execution_count": 1,
   "id": "3879be84-d8f6-4f0c-a689-521a4c9adf6c",
   "metadata": {},
   "outputs": [],
   "source": [
    "# Menggabungkan dua set - union()\n",
    "set_a = {1, 2, 3}\n",
    "set_b = {3, 4, 5}\n",
    "gabungan = set_a.union(set_b)"
   ]
  },
  {
   "cell_type": "code",
   "execution_count": 2,
   "id": "8fe99326-00aa-48d6-be13-da42b9c79c9c",
   "metadata": {},
   "outputs": [
    {
     "name": "stdout",
     "output_type": "stream",
     "text": [
      "{1, 2, 3, 4, 5}\n"
     ]
    }
   ],
   "source": [
    "print(gabungan)"
   ]
  },
  {
   "cell_type": "code",
   "execution_count": 3,
   "id": "72faec71-389c-4ab2-83c6-94286b03d67c",
   "metadata": {},
   "outputs": [],
   "source": [
    "# Menghasilkan set baru yang berisi elemen-elemen yang ada di kedua set - intersection()\n",
    "irisan = set_a.intersection(set_b)"
   ]
  },
  {
   "cell_type": "code",
   "execution_count": 4,
   "id": "35c708d0-1d4b-4a23-bb17-239c93c93996",
   "metadata": {},
   "outputs": [
    {
     "name": "stdout",
     "output_type": "stream",
     "text": [
      "{3}\n"
     ]
    }
   ],
   "source": [
    "print(irisan)"
   ]
  },
  {
   "cell_type": "code",
   "execution_count": 5,
   "id": "2b8db9a1-dfaa-416a-b9b1-fec793c5c288",
   "metadata": {},
   "outputs": [],
   "source": [
    "# Menghasilkan set baru yang berisi elemen-elemen yang ada di set pertama tetapi tidak ada di set kedua - difference()\n",
    "selisih = set_a.difference(set_b)"
   ]
  },
  {
   "cell_type": "code",
   "execution_count": 6,
   "id": "649b794a-0ef1-498c-b6ed-d28bb4d7b705",
   "metadata": {},
   "outputs": [
    {
     "name": "stdout",
     "output_type": "stream",
     "text": [
      "{1, 2}\n"
     ]
    }
   ],
   "source": [
    "print(selisih)"
   ]
  },
  {
   "cell_type": "code",
   "execution_count": 7,
   "id": "25209bab-9c29-417b-8bf0-07c8b1fd7fa7",
   "metadata": {},
   "outputs": [],
   "source": [
    "# Menghasilkan set baru yang berisi elemen-elemen yang ada di salah satu set, tetapi tidak ada di kedua set sekaligus - symmetric_differe()\n",
    "simetris = set_a.symmetric_difference(set_b)"
   ]
  },
  {
   "cell_type": "code",
   "execution_count": 8,
   "id": "d8e1c81a-5331-43d7-9a0b-c7193422290b",
   "metadata": {},
   "outputs": [
    {
     "name": "stdout",
     "output_type": "stream",
     "text": [
      "{1, 2, 4, 5}\n"
     ]
    }
   ],
   "source": [
    "print(simetris)"
   ]
  },
  {
   "cell_type": "code",
   "execution_count": null,
   "id": "176dab93-b2c3-4c58-9579-9b46cdae2a39",
   "metadata": {},
   "outputs": [],
   "source": []
  }
 ],
 "metadata": {
  "kernelspec": {
   "display_name": "Python 3 (ipykernel)",
   "language": "python",
   "name": "python3"
  },
  "language_info": {
   "codemirror_mode": {
    "name": "ipython",
    "version": 3
   },
   "file_extension": ".py",
   "mimetype": "text/x-python",
   "name": "python",
   "nbconvert_exporter": "python",
   "pygments_lexer": "ipython3",
   "version": "3.12.3"
  }
 },
 "nbformat": 4,
 "nbformat_minor": 5
}
