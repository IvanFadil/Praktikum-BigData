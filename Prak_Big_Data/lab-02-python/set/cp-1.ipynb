{
 "cells": [
  {
   "cell_type": "markdown",
   "id": "57eafa81-8681-4dd7-bf5e-2e494a05cef8",
   "metadata": {},
   "source": [
    "# 7. Set\n",
    "## Penjelasan\n",
    "\n",
    "Set adalah tipe data bawaan di Python yang digunakan untuk menyimpan koleksi elemen yang bersifat unik dan tidak terurut. Set merupakan struktur data yang sangat berguna untuk mengelola data yang tidak boleh memiliki elemen duplikat. Set mendukung operasi matematika seperti union (gabungan), intersection (irisan), dan difference (selisih).\n",
    "\n",
    "Berikut adalah beberapa karakteristik utama dari set:\n",
    "\n",
    "    Unik: Set tidak mengizinkan elemen yang duplikat.\n",
    "    Tidak Terurut: Elemen dalam set tidak memiliki urutan. Artinya, tidak ada indeks yang bisa digunakan untuk mengakses elemen secara langsung.\n",
    "    Mutable: Anda bisa menambah atau menghapus elemen dalam set.\n",
    "    Tidak Dapat Berisi Objek Mutable: Elemen dalam set harus bersifat immutable, sehingga kita tidak bisa memasukkan list atau dictionary sebagai elemen set. Namun, tuple bisa menjadi elemen karena bersifat immutable.\n",
    "\n",
    "Set dapat dibuat dengan dua cara:\n",
    "\n",
    "    Menggunakan tanda kurung kurawal {}.\n",
    "    Menggunakan fungsi set()."
   ]
  },
  {
   "cell_type": "markdown",
   "id": "198d2bc7-e2ad-4504-9ec7-77dd5b660702",
   "metadata": {},
   "source": [
    "### Contoh Program 1"
   ]
  },
  {
   "cell_type": "code",
   "execution_count": 1,
   "id": "b92fae72-7a4a-449f-a82d-c47310f0516e",
   "metadata": {},
   "outputs": [],
   "source": [
    "# Membuat set menggunakan kurung kurawal\n",
    "set_buah = {\"apel\", \"jeruk\", \"mangga\"}"
   ]
  },
  {
   "cell_type": "code",
   "execution_count": 2,
   "id": "5e07fcb1-3508-4a3e-931c-b6564b726985",
   "metadata": {},
   "outputs": [],
   "source": [
    "# Membuat set menggunakan fungsi set()\n",
    "set_angka = set([1, 2, 3, 4, 5])"
   ]
  },
  {
   "cell_type": "code",
   "execution_count": 3,
   "id": "f284ced2-9c75-4912-b81a-7ee1fe0bac85",
   "metadata": {},
   "outputs": [
    {
     "name": "stdout",
     "output_type": "stream",
     "text": [
      "{1, 2, 3, 4}\n"
     ]
    }
   ],
   "source": [
    "# Set dengan elemen duplikat, elemen duplikat akan otomatis dihapus\n",
    "set_duplikat = {1, 2, 2, 3, 4, 4}\n",
    "print(set_duplikat)  "
   ]
  },
  {
   "cell_type": "code",
   "execution_count": 4,
   "id": "0ee09f08-a482-4f53-837b-fb36c75f63af",
   "metadata": {},
   "outputs": [
    {
     "name": "stdout",
     "output_type": "stream",
     "text": [
      "mangga\n",
      "jeruk\n",
      "apel\n"
     ]
    }
   ],
   "source": [
    "\n",
    "# Mengakses elemen pada set\n",
    "for buah in set_buah:\n",
    "    print(buah)"
   ]
  },
  {
   "cell_type": "code",
   "execution_count": 5,
   "id": "51e6b41b-b278-4483-9f93-90acfdf18d52",
   "metadata": {},
   "outputs": [
    {
     "name": "stdout",
     "output_type": "stream",
     "text": [
      "{1, 2, 3, 4, 5, 7}\n"
     ]
    }
   ],
   "source": [
    "# Menambah elemen pada set\n",
    "set_angka.add(7)  # Menambah elemen tunggal\n",
    "print(set_angka) "
   ]
  },
  {
   "cell_type": "code",
   "execution_count": 6,
   "id": "3cebe236-c0e9-4776-9966-f1c9952044ce",
   "metadata": {},
   "outputs": [
    {
     "name": "stdout",
     "output_type": "stream",
     "text": [
      "{1, 2, 3, 4, 5, 7, 8, 9}\n"
     ]
    }
   ],
   "source": [
    "set_angka.update([8, 9])  # Menambah beberapa elemen\n",
    "print(set_angka)  "
   ]
  },
  {
   "cell_type": "code",
   "execution_count": 7,
   "id": "dc4df2a0-4ac1-4cb3-9cb9-160f57ad3ba2",
   "metadata": {},
   "outputs": [
    {
     "name": "stdout",
     "output_type": "stream",
     "text": [
      "{'mangga', 'apel'}\n"
     ]
    }
   ],
   "source": [
    "# Menghapus elemen pada set\n",
    "set_buah.remove(\"jeruk\")  # Menghapus elemen 'jeruk'\n",
    "print(set_buah)"
   ]
  },
  {
   "cell_type": "code",
   "execution_count": 8,
   "id": "6042d830-b2bd-4ad4-bf95-4a891ef07770",
   "metadata": {},
   "outputs": [
    {
     "name": "stdout",
     "output_type": "stream",
     "text": [
      "{'mangga', 'apel'}\n"
     ]
    }
   ],
   "source": [
    "# Menggunakan discard() tanpa error jika elemen tidak ada\n",
    "set_buah.discard(\"pisang\")\n",
    "print(set_buah)"
   ]
  },
  {
   "cell_type": "code",
   "execution_count": 9,
   "id": "33badf0d-7f97-4131-add5-46eab7838638",
   "metadata": {},
   "outputs": [
    {
     "name": "stdout",
     "output_type": "stream",
     "text": [
      "set()\n"
     ]
    }
   ],
   "source": [
    "# Menghapus semua elemen\n",
    "set_buah.clear()\n",
    "print(set_buah)"
   ]
  },
  {
   "cell_type": "code",
   "execution_count": null,
   "id": "227a64c3-01a4-4fef-b195-a3da6c1d7b38",
   "metadata": {},
   "outputs": [],
   "source": []
  }
 ],
 "metadata": {
  "kernelspec": {
   "display_name": "Python 3 (ipykernel)",
   "language": "python",
   "name": "python3"
  },
  "language_info": {
   "codemirror_mode": {
    "name": "ipython",
    "version": 3
   },
   "file_extension": ".py",
   "mimetype": "text/x-python",
   "name": "python",
   "nbconvert_exporter": "python",
   "pygments_lexer": "ipython3",
   "version": "3.12.3"
  }
 },
 "nbformat": 4,
 "nbformat_minor": 5
}
