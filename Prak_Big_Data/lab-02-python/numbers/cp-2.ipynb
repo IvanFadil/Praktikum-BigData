{
 "cells": [
  {
   "cell_type": "markdown",
   "id": "9716cf2e-1221-4663-9dda-312291592b3e",
   "metadata": {},
   "source": [
    "# Contoh Program 2"
   ]
  },
  {
   "cell_type": "code",
   "execution_count": 1,
   "id": "b151d7bd-40e2-40c0-b8be-109fbb4d19dd",
   "metadata": {},
   "outputs": [],
   "source": [
    "import random"
   ]
  },
  {
   "cell_type": "code",
   "execution_count": 2,
   "id": "df13dc49-9d47-45d8-b354-76f1c535df08",
   "metadata": {},
   "outputs": [],
   "source": [
    "# Menghasilkan bilangan bulat acak\n",
    "random_int = random.randint(1, 10)"
   ]
  },
  {
   "cell_type": "code",
   "execution_count": 3,
   "id": "09143c2f-b839-4639-98a6-3a2ebec50800",
   "metadata": {},
   "outputs": [
    {
     "name": "stdout",
     "output_type": "stream",
     "text": [
      "Bilangan acak (int): 5\n"
     ]
    }
   ],
   "source": [
    "print(\"Bilangan acak (int):\", random_int)"
   ]
  },
  {
   "cell_type": "code",
   "execution_count": 4,
   "id": "c00d25b5-35c3-42e7-ae2f-6dcdaa9489b0",
   "metadata": {},
   "outputs": [
    {
     "name": "stdout",
     "output_type": "stream",
     "text": [
      "Tipe datanya adalah: <class 'int'>\n"
     ]
    }
   ],
   "source": [
    "print(\"Tipe datanya adalah:\", type(random_int))"
   ]
  },
  {
   "cell_type": "code",
   "execution_count": 5,
   "id": "b581aadb-8340-4f80-a3a8-2f7eaa7c23fb",
   "metadata": {},
   "outputs": [],
   "source": [
    "# Menambahkan bilangan bulat dengan bilangan desimal\n",
    "decimal_number = 5.5"
   ]
  },
  {
   "cell_type": "code",
   "execution_count": 6,
   "id": "a3326ca5-18f9-47fb-849c-d54dc31e1efb",
   "metadata": {},
   "outputs": [],
   "source": [
    "result = random_int + decimal_number"
   ]
  },
  {
   "cell_type": "code",
   "execution_count": 7,
   "id": "5ba7404e-2f78-492d-86c3-dc81d0b9f5fe",
   "metadata": {},
   "outputs": [
    {
     "name": "stdout",
     "output_type": "stream",
     "text": [
      "\n",
      "Hasil penjumlahan: 10.5\n"
     ]
    }
   ],
   "source": [
    "print(\"\\nHasil penjumlahan:\", result)"
   ]
  },
  {
   "cell_type": "code",
   "execution_count": 8,
   "id": "9c48d827-b47b-4bc9-aa85-d57b66cc3333",
   "metadata": {},
   "outputs": [
    {
     "name": "stdout",
     "output_type": "stream",
     "text": [
      "Tipe data setelah penjumlahan: <class 'float'>\n"
     ]
    }
   ],
   "source": [
    "print(\"Tipe data setelah penjumlahan:\", type(result))"
   ]
  },
  {
   "cell_type": "code",
   "execution_count": null,
   "id": "01012dfa-4579-4d89-aa55-0cc3b628ea87",
   "metadata": {},
   "outputs": [],
   "source": []
  }
 ],
 "metadata": {
  "kernelspec": {
   "display_name": "Python 3 (ipykernel)",
   "language": "python",
   "name": "python3"
  },
  "language_info": {
   "codemirror_mode": {
    "name": "ipython",
    "version": 3
   },
   "file_extension": ".py",
   "mimetype": "text/x-python",
   "name": "python",
   "nbconvert_exporter": "python",
   "pygments_lexer": "ipython3",
   "version": "3.12.3"
  }
 },
 "nbformat": 4,
 "nbformat_minor": 5
}
