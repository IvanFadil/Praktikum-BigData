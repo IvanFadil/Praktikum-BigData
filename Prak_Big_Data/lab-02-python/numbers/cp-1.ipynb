{
 "cells": [
  {
   "cell_type": "markdown",
   "id": "15f00519-5011-4c25-b977-9fe977c56699",
   "metadata": {},
   "source": [
    "# Contoh Program 1 "
   ]
  },
  {
   "cell_type": "code",
   "execution_count": 1,
   "id": "b29e275a-fc30-45e2-bbc0-a0445c5d39a3",
   "metadata": {},
   "outputs": [],
   "source": [
    "# Membuat variabel integer, float, dan complex\n",
    "x = 5       # Integer\n",
    "y = 3.14    # Float\n",
    "z = 1 + 2j  # Complex"
   ]
  },
  {
   "cell_type": "code",
   "execution_count": 2,
   "id": "7192f45e-057d-4af4-a92a-ef952177dfa2",
   "metadata": {},
   "outputs": [
    {
     "name": "stdout",
     "output_type": "stream",
     "text": [
      "Hasil penjumlahan: 8.14\n"
     ]
    }
   ],
   "source": [
    "# Operasi aritmatika sederhana\n",
    "jumlah = x + y\n",
    "print(\"Hasil penjumlahan:\", jumlah)"
   ]
  },
  {
   "cell_type": "code",
   "execution_count": 3,
   "id": "9ec691b4-286c-4038-a68b-21410bf0abc8",
   "metadata": {},
   "outputs": [
    {
     "name": "stdout",
     "output_type": "stream",
     "text": [
      "Bilangan kompleks: (1+2j)\n"
     ]
    }
   ],
   "source": [
    "# Bilangan kompleks\n",
    "print(\"Bilangan kompleks:\", z)"
   ]
  },
  {
   "cell_type": "code",
   "execution_count": null,
   "id": "352e87f1-ebf5-4a66-9514-d45a49bcaa38",
   "metadata": {},
   "outputs": [],
   "source": []
  }
 ],
 "metadata": {
  "kernelspec": {
   "display_name": "Python 3 (ipykernel)",
   "language": "python",
   "name": "python3"
  },
  "language_info": {
   "codemirror_mode": {
    "name": "ipython",
    "version": 3
   },
   "file_extension": ".py",
   "mimetype": "text/x-python",
   "name": "python",
   "nbconvert_exporter": "python",
   "pygments_lexer": "ipython3",
   "version": "3.12.3"
  }
 },
 "nbformat": 4,
 "nbformat_minor": 5
}
