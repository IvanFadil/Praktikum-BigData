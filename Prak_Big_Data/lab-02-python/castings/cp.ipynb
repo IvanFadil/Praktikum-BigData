{
 "cells": [
  {
   "cell_type": "markdown",
   "id": "13cc5761-4e93-48e8-b582-703ee957ca61",
   "metadata": {},
   "source": [
    "# 3. Castings (Konversi Tipe Data)"
   ]
  },
  {
   "cell_type": "markdown",
   "id": "6a1861c8-bba4-4b59-a7e6-743669f3f833",
   "metadata": {},
   "source": [
    "## Penjelasan\n",
    "\n",
    "Casting adalah proses mengonversi satu tipe data ke tipe data lain, seperti mengonversi integer menjadi string, atau float menjadi integer."
   ]
  },
  {
   "cell_type": "markdown",
   "id": "fed1cba6-ad2f-4821-aaa0-438389f1f7ce",
   "metadata": {},
   "source": [
    "### contoh program"
   ]
  },
  {
   "cell_type": "code",
   "execution_count": 1,
   "id": "912a3974-b9ab-4f63-ae2e-f11e38a40c02",
   "metadata": {},
   "outputs": [],
   "source": [
    "# Konversi dari integer ke string\n",
    "angka = 10\n",
    "angka_str = str(angka)"
   ]
  },
  {
   "cell_type": "code",
   "execution_count": 2,
   "id": "54f829f7-98ea-4e66-bc29-dc1065c1693e",
   "metadata": {},
   "outputs": [
    {
     "name": "stdout",
     "output_type": "stream",
     "text": [
      "Angka sebagai string: 10\n"
     ]
    }
   ],
   "source": [
    "print(\"Angka sebagai string:\", angka_str)"
   ]
  },
  {
   "cell_type": "code",
   "execution_count": 3,
   "id": "9f0c4eb2-c26f-47cf-80cb-2797322a506f",
   "metadata": {},
   "outputs": [],
   "source": [
    "# Konversi dari float ke integer\n",
    "desimal = 3.99\n",
    "desimal_int = int(desimal)"
   ]
  },
  {
   "cell_type": "code",
   "execution_count": 4,
   "id": "fbd94193-2bea-4664-a0a3-31ada73cb0f8",
   "metadata": {},
   "outputs": [
    {
     "name": "stdout",
     "output_type": "stream",
     "text": [
      "Desimal menjadi integer: 3\n"
     ]
    }
   ],
   "source": [
    "print(\"Desimal menjadi integer:\", desimal_int)"
   ]
  }
 ],
 "metadata": {
  "kernelspec": {
   "display_name": "Python 3 (ipykernel)",
   "language": "python",
   "name": "python3"
  },
  "language_info": {
   "codemirror_mode": {
    "name": "ipython",
    "version": 3
   },
   "file_extension": ".py",
   "mimetype": "text/x-python",
   "name": "python",
   "nbconvert_exporter": "python",
   "pygments_lexer": "ipython3",
   "version": "3.12.3"
  }
 },
 "nbformat": 4,
 "nbformat_minor": 5
}
