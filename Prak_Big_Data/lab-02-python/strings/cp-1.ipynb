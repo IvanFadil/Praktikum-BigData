{
 "cells": [
  {
   "cell_type": "markdown",
   "id": "6bc5727d-1764-45a3-b775-01b1ac162dda",
   "metadata": {},
   "source": [
    "# Contoh Program 1"
   ]
  },
  {
   "cell_type": "code",
   "execution_count": 1,
   "id": "8cb4e533-81bc-487a-8400-31b7f52fbc6e",
   "metadata": {},
   "outputs": [],
   "source": [
    "# Membuat string\n",
    "nama = \"Python\""
   ]
  },
  {
   "cell_type": "code",
   "execution_count": 2,
   "id": "f2909257-8290-4a77-bf26-087cbe341adc",
   "metadata": {},
   "outputs": [
    {
     "name": "stdout",
     "output_type": "stream",
     "text": [
      "Huruf pertama: P\n"
     ]
    }
   ],
   "source": [
    "# Mengakses karakter dalam string\n",
    "huruf_pertama = nama[0]\n",
    "print(\"Huruf pertama:\", huruf_pertama)"
   ]
  },
  {
   "cell_type": "code",
   "execution_count": 3,
   "id": "99c8e601-ea10-44d2-966d-b43deb076d85",
   "metadata": {},
   "outputs": [
    {
     "name": "stdout",
     "output_type": "stream",
     "text": [
      "Halo, Python!\n"
     ]
    }
   ],
   "source": [
    "# Menggabungkan dua string\n",
    "greeting = \"Halo, \" + nama + \"!\"\n",
    "print(greeting)"
   ]
  },
  {
   "cell_type": "code",
   "execution_count": 4,
   "id": "ac832072-d070-4c4d-a541-dc90abec1625",
   "metadata": {},
   "outputs": [
    {
     "name": "stdout",
     "output_type": "stream",
     "text": [
      "Pem\n"
     ]
    }
   ],
   "source": [
    "# Slicing String\n",
    "kata = \"Pemrograman\"\n",
    "potongan = kata[0:3]  # Mengambil karakter dari indeks 0 hingga 2\n",
    "print(potongan)      "
   ]
  },
  {
   "cell_type": "code",
   "execution_count": 5,
   "id": "b3a23e76-7acc-4caf-b994-4119282fdb46",
   "metadata": {},
   "outputs": [
    {
     "name": "stdout",
     "output_type": "stream",
     "text": [
      "Jalo\n"
     ]
    }
   ],
   "source": [
    "# String Immutable\n",
    "kata_2 = \"Halo\"\n",
    "# kata[0] = 'J'  # Akan menyebabkan error karena string immutable\n",
    "kata_baru = 'J' + kata_2[1:]  # Membuat string baru\n",
    "print(kata_baru)  # Output: Jalo"
   ]
  },
  {
   "cell_type": "code",
   "execution_count": 6,
   "id": "35006c45-4bc7-47e5-94ce-00aa5bbeedb2",
   "metadata": {},
   "outputs": [
    {
     "name": "stdout",
     "output_type": "stream",
     "text": [
      "HaHaHa\n"
     ]
    }
   ],
   "source": [
    "# Mengulang string\n",
    "ulang = \"Ha\" * 3\n",
    "print(ulang)"
   ]
  },
  {
   "cell_type": "code",
   "execution_count": null,
   "id": "9e9849e7-949e-4496-8efd-24c0198722d0",
   "metadata": {},
   "outputs": [],
   "source": []
  }
 ],
 "metadata": {
  "kernelspec": {
   "display_name": "Python 3 (ipykernel)",
   "language": "python",
   "name": "python3"
  },
  "language_info": {
   "codemirror_mode": {
    "name": "ipython",
    "version": 3
   },
   "file_extension": ".py",
   "mimetype": "text/x-python",
   "name": "python",
   "nbconvert_exporter": "python",
   "pygments_lexer": "ipython3",
   "version": "3.12.3"
  }
 },
 "nbformat": 4,
 "nbformat_minor": 5
}
