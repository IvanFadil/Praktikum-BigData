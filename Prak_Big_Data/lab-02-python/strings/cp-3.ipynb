{
 "cells": [
  {
   "cell_type": "markdown",
   "id": "50acc618-6d7d-4f45-9ba4-085a466e178d",
   "metadata": {},
   "source": [
    "# Contoh Program 3"
   ]
  },
  {
   "cell_type": "code",
   "execution_count": 1,
   "id": "33326aa5-3597-4c00-81d1-27793b79b812",
   "metadata": {},
   "outputs": [],
   "source": [
    "text = \"Apache Spark is Awesome\"\n",
    "sliced_text = text[7:12]"
   ]
  },
  {
   "cell_type": "code",
   "execution_count": 2,
   "id": "01c76d0d-b940-4be7-99e4-829120110ac2",
   "metadata": {},
   "outputs": [
    {
     "name": "stdout",
     "output_type": "stream",
     "text": [
      "Spark\n"
     ]
    }
   ],
   "source": [
    "print(sliced_text)"
   ]
  },
  {
   "cell_type": "code",
   "execution_count": 3,
   "id": "6abe6a75-6dc2-4070-9085-9f8920226611",
   "metadata": {},
   "outputs": [],
   "source": [
    "length_text=len(text)"
   ]
  },
  {
   "cell_type": "code",
   "execution_count": 4,
   "id": "c86457b0-05f6-4225-9cd9-97dd46251b60",
   "metadata": {},
   "outputs": [
    {
     "name": "stdout",
     "output_type": "stream",
     "text": [
      "23\n"
     ]
    }
   ],
   "source": [
    "print(length_text)"
   ]
  },
  {
   "cell_type": "code",
   "execution_count": 5,
   "id": "e7666650-959b-4c6d-8333-bdd09de4ee7b",
   "metadata": {},
   "outputs": [],
   "source": [
    "replaced_text = text.replace(\"Awesome\",\"Fast and Easy\")"
   ]
  },
  {
   "cell_type": "code",
   "execution_count": 6,
   "id": "98c6db55-c526-45c4-ae9d-0de7651679e7",
   "metadata": {},
   "outputs": [
    {
     "name": "stdout",
     "output_type": "stream",
     "text": [
      "Apache Spark is Fast and Easy\n"
     ]
    }
   ],
   "source": [
    "print(replaced_text)"
   ]
  },
  {
   "cell_type": "code",
   "execution_count": 7,
   "id": "ab8733e8-8750-42ae-b047-c193875752ab",
   "metadata": {},
   "outputs": [],
   "source": [
    "split_text = text.split(\"is\")"
   ]
  },
  {
   "cell_type": "code",
   "execution_count": 8,
   "id": "7c5697e4-f008-4070-ae28-98caa8275b47",
   "metadata": {},
   "outputs": [
    {
     "name": "stdout",
     "output_type": "stream",
     "text": [
      "['Apache Spark ', ' Awesome']\n"
     ]
    }
   ],
   "source": [
    "print(split_text)"
   ]
  },
  {
   "cell_type": "code",
   "execution_count": 9,
   "id": "fcd2c18c-8152-4cf5-a037-c3f15acbf5b6",
   "metadata": {},
   "outputs": [],
   "source": [
    "string_present = \"Spark\" in text"
   ]
  },
  {
   "cell_type": "code",
   "execution_count": 10,
   "id": "5e89a7d0-5d96-4cc7-8eb5-4f47084535b2",
   "metadata": {},
   "outputs": [
    {
     "name": "stdout",
     "output_type": "stream",
     "text": [
      "True\n"
     ]
    }
   ],
   "source": [
    "print(string_present)"
   ]
  }
 ],
 "metadata": {
  "kernelspec": {
   "display_name": "Python 3 (ipykernel)",
   "language": "python",
   "name": "python3"
  },
  "language_info": {
   "codemirror_mode": {
    "name": "ipython",
    "version": 3
   },
   "file_extension": ".py",
   "mimetype": "text/x-python",
   "name": "python",
   "nbconvert_exporter": "python",
   "pygments_lexer": "ipython3",
   "version": "3.12.3"
  }
 },
 "nbformat": 4,
 "nbformat_minor": 5
}
