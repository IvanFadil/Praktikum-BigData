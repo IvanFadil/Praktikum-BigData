{
 "cells": [
  {
   "cell_type": "markdown",
   "id": "92759886-e4c8-407a-b5d1-324bcaab5585",
   "metadata": {},
   "source": [
    "# Contoh Program 2"
   ]
  },
  {
   "cell_type": "code",
   "execution_count": 1,
   "id": "ff7e86b1-dc46-4651-a924-abbcf80071e8",
   "metadata": {},
   "outputs": [],
   "source": [
    "teks = \"  Python  \""
   ]
  },
  {
   "cell_type": "code",
   "execution_count": 2,
   "id": "dd4345b3-0559-4b16-b5c4-aaf3d6787c3f",
   "metadata": {},
   "outputs": [
    {
     "name": "stdout",
     "output_type": "stream",
     "text": [
      "10\n"
     ]
    }
   ],
   "source": [
    "print(len(teks)) "
   ]
  },
  {
   "cell_type": "code",
   "execution_count": 3,
   "id": "bc8202ae-dc3d-40fd-88f9-220d6a418113",
   "metadata": {},
   "outputs": [
    {
     "name": "stdout",
     "output_type": "stream",
     "text": [
      "  PYTHON  \n"
     ]
    }
   ],
   "source": [
    "print(teks.upper())"
   ]
  },
  {
   "cell_type": "code",
   "execution_count": 4,
   "id": "1ae0ffbb-2488-46a9-aae0-585b4f1b613c",
   "metadata": {},
   "outputs": [
    {
     "name": "stdout",
     "output_type": "stream",
     "text": [
      "Python\n"
     ]
    }
   ],
   "source": [
    "print(teks.strip())"
   ]
  },
  {
   "cell_type": "code",
   "execution_count": 5,
   "id": "2777df1d-e80b-45bb-a019-80d2f29baf12",
   "metadata": {},
   "outputs": [
    {
     "name": "stdout",
     "output_type": "stream",
     "text": [
      "  Pithon  \n"
     ]
    }
   ],
   "source": [
    "print(teks.replace('y', 'i')) "
   ]
  },
  {
   "cell_type": "code",
   "execution_count": 6,
   "id": "abe1cebe-f8f6-4b5a-a5ed-bef1815a6a68",
   "metadata": {},
   "outputs": [],
   "source": [
    "pesan = \"\"\"Ini adalah\n",
    "contoh string\n",
    "yang terdiri dari beberapa baris\"\"\""
   ]
  },
  {
   "cell_type": "code",
   "execution_count": 7,
   "id": "8c071c38-3ae2-47d5-88c0-1c084746cc85",
   "metadata": {},
   "outputs": [
    {
     "name": "stdout",
     "output_type": "stream",
     "text": [
      "Ini adalah\n",
      "contoh string\n",
      "yang terdiri dari beberapa baris\n"
     ]
    }
   ],
   "source": [
    "print(pesan)"
   ]
  },
  {
   "cell_type": "code",
   "execution_count": null,
   "id": "2e723975-3438-4336-b2b4-cd3050dd59de",
   "metadata": {},
   "outputs": [],
   "source": []
  }
 ],
 "metadata": {
  "kernelspec": {
   "display_name": "Python 3 (ipykernel)",
   "language": "python",
   "name": "python3"
  },
  "language_info": {
   "codemirror_mode": {
    "name": "ipython",
    "version": 3
   },
   "file_extension": ".py",
   "mimetype": "text/x-python",
   "name": "python",
   "nbconvert_exporter": "python",
   "pygments_lexer": "ipython3",
   "version": "3.12.3"
  }
 },
 "nbformat": 4,
 "nbformat_minor": 5
}
