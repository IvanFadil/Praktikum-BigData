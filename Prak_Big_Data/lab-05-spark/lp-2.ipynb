{
 "cells": [
  {
   "cell_type": "code",
   "execution_count": 1,
   "id": "d269517f-e9be-4337-a7cd-fe8c948a4a6a",
   "metadata": {},
   "outputs": [],
   "source": [
    "from pyspark.sql import SparkSession"
   ]
  },
  {
   "cell_type": "code",
   "execution_count": 2,
   "id": "c5bda607-7877-4f85-9021-30c049eb6f8c",
   "metadata": {},
   "outputs": [
    {
     "name": "stderr",
     "output_type": "stream",
     "text": [
      "24/10/15 11:54:47 WARN Utils: Your hostname, ivan resolves to a loopback address: 127.0.1.1; using 10.0.2.15 instead (on interface enp0s3)\n",
      "24/10/15 11:54:47 WARN Utils: Set SPARK_LOCAL_IP if you need to bind to another address\n",
      "Setting default log level to \"WARN\".\n",
      "To adjust logging level use sc.setLogLevel(newLevel). For SparkR, use setLogLevel(newLevel).\n",
      "24/10/15 11:54:48 WARN NativeCodeLoader: Unable to load native-hadoop library for your platform... using builtin-java classes where applicable\n",
      "24/10/15 11:54:49 WARN Utils: Service 'SparkUI' could not bind on port 4040. Attempting port 4041.\n",
      "24/10/15 11:54:49 WARN Utils: Service 'SparkUI' could not bind on port 4041. Attempting port 4042.\n",
      "24/10/15 11:54:49 WARN Utils: Service 'SparkUI' could not bind on port 4042. Attempting port 4043.\n",
      "24/10/15 11:55:03 WARN GarbageCollectionMetrics: To enable non-built-in garbage collector(s) List(G1 Concurrent GC), users should configure it(them) to spark.eventLog.gcMetrics.youngGenerationGarbageCollectors or spark.eventLog.gcMetrics.oldGenerationGarbageCollectors\n"
     ]
    }
   ],
   "source": [
    "spark = SparkSession.builder.appName(\"SparkFilters\").getOrCreate()"
   ]
  },
  {
   "cell_type": "code",
   "execution_count": 3,
   "id": "11cde58f-b9ba-4da9-a2f9-d338adde9e5d",
   "metadata": {},
   "outputs": [],
   "source": [
    "df = spark.read.csv(\"items_bought.csv\",header=True,inferSchema=True)"
   ]
  },
  {
   "cell_type": "code",
   "execution_count": 4,
   "id": "65e6862b-2bcc-4205-8deb-da6bac1ebd18",
   "metadata": {},
   "outputs": [
    {
     "name": "stdout",
     "output_type": "stream",
     "text": [
      "+----------+---------+----------+--------+----------+------------+\n",
      "|      date|item_name|item_price|quantity|tax_amount|total_amount|\n",
      "+----------+---------+----------+--------+----------+------------+\n",
      "|11-10-2018|     Beer|     110.5|       2|     53.04|      163.54|\n",
      "|14-02-2018|   Whisky|    1250.0|       1|     300.0|      1550.0|\n",
      "|23-03-2020|   Whisky|    1300.5|       2|    624.24|     1924.74|\n",
      "|05-10-2018|      Rum|     550.0|       2|     264.0|       814.0|\n",
      "|07-05-2019|      Rum|     555.0|       2|     266.4|       821.4|\n",
      "|06-10-2020|      Rum|     590.0|       3|     424.8|      1014.8|\n",
      "|22-03-2020|      Gin|     400.0|       1|      96.0|       496.0|\n",
      "|11-10-2019|     Beer|     130.0|       4|     124.8|       254.8|\n",
      "|14-02-2020|    Vodka|     750.0|       2|     360.0|      1110.0|\n",
      "+----------+---------+----------+--------+----------+------------+\n",
      "\n"
     ]
    }
   ],
   "source": [
    "df.show()"
   ]
  },
  {
   "cell_type": "code",
   "execution_count": 5,
   "id": "5068e4d9-72cb-4156-99c4-7c6937e48111",
   "metadata": {},
   "outputs": [
    {
     "name": "stdout",
     "output_type": "stream",
     "text": [
      "+----------+---------+----------+--------+----------+------------+\n",
      "|      date|item_name|item_price|quantity|tax_amount|total_amount|\n",
      "+----------+---------+----------+--------+----------+------------+\n",
      "|11-10-2018|     Beer|     110.5|       2|     53.04|      163.54|\n",
      "|14-02-2018|   Whisky|    1250.0|       1|     300.0|      1550.0|\n",
      "|23-03-2020|   Whisky|    1300.5|       2|    624.24|     1924.74|\n",
      "|05-10-2018|      Rum|     550.0|       2|     264.0|       814.0|\n",
      "+----------+---------+----------+--------+----------+------------+\n",
      "only showing top 4 rows\n",
      "\n"
     ]
    }
   ],
   "source": [
    "df.show(4)"
   ]
  },
  {
   "cell_type": "code",
   "execution_count": 6,
   "id": "44666a19-b75b-4846-a472-800af62037b4",
   "metadata": {},
   "outputs": [
    {
     "name": "stdout",
     "output_type": "stream",
     "text": [
      "Result after filtering total_amount greater than 1500\n",
      "+----------+---------+----------+--------+----------+------------+\n",
      "|      date|item_name|item_price|quantity|tax_amount|total_amount|\n",
      "+----------+---------+----------+--------+----------+------------+\n",
      "|14-02-2018|   Whisky|    1250.0|       1|     300.0|      1550.0|\n",
      "|23-03-2020|   Whisky|    1300.5|       2|    624.24|     1924.74|\n",
      "+----------+---------+----------+--------+----------+------------+\n",
      "\n"
     ]
    }
   ],
   "source": [
    "print(\"Result after filtering total_amount greater than 1500\")\n",
    "df.filter(\"total_amount>1500\").show() #filtering based on SQL type syntax"
   ]
  },
  {
   "cell_type": "code",
   "execution_count": 7,
   "id": "229f2091-8a74-4856-bc4e-b740c48341ba",
   "metadata": {},
   "outputs": [
    {
     "name": "stdout",
     "output_type": "stream",
     "text": [
      "Result after filtering based on item_price and tax_amount\n",
      "+----------+---------+----------+--------+----------+------------+\n",
      "|      date|item_name|item_price|quantity|tax_amount|total_amount|\n",
      "+----------+---------+----------+--------+----------+------------+\n",
      "|23-03-2020|   Whisky|    1300.5|       2|    624.24|     1924.74|\n",
      "+----------+---------+----------+--------+----------+------------+\n",
      "\n"
     ]
    }
   ],
   "source": [
    "print(\"Result after filtering based on item_price and tax_amount\")\n",
    "df.filter((df[\"item_price\"]>1000)&(df[\"tax_amount\"]>500)).show() #filtering based on multiple column conditions"
   ]
  },
  {
   "cell_type": "code",
   "execution_count": 8,
   "id": "4053e476-9881-4539-a0db-f6415b26e13a",
   "metadata": {},
   "outputs": [],
   "source": [
    "result_data = df.filter((df[\"total_amount\"]==1924.74)).collect() #collecting the record based on a condition\n",
    "resulting_date = result_data[0][\"date\"] #fetching data from the collected result"
   ]
  },
  {
   "cell_type": "code",
   "execution_count": 9,
   "id": "6cbaa153-dd11-4fb1-ad59-aa6911d82736",
   "metadata": {
    "scrolled": true
   },
   "outputs": [
    {
     "name": "stdout",
     "output_type": "stream",
     "text": [
      "The collected data point's date value is 23-03-2020\n"
     ]
    },
    {
     "data": {
      "text/plain": [
       "{'date': '23-03-2020',\n",
       " 'item_name': 'Whisky',\n",
       " 'item_price': 1300.5,\n",
       " 'quantity': 2,\n",
       " 'tax_amount': 624.24,\n",
       " 'total_amount': 1924.74}"
      ]
     },
     "execution_count": 9,
     "metadata": {},
     "output_type": "execute_result"
    }
   ],
   "source": [
    "print(\"The collected data point's date value is \"+resulting_date)\n",
    "result_data[0].asDict() #converting the result to a dictionary"
   ]
  },
  {
   "cell_type": "code",
   "execution_count": null,
   "id": "7415ba54-5145-45d0-945c-26a20d27d82b",
   "metadata": {},
   "outputs": [],
   "source": []
  }
 ],
 "metadata": {
  "kernelspec": {
   "display_name": "Python 3 (ipykernel)",
   "language": "python",
   "name": "python3"
  },
  "language_info": {
   "codemirror_mode": {
    "name": "ipython",
    "version": 3
   },
   "file_extension": ".py",
   "mimetype": "text/x-python",
   "name": "python",
   "nbconvert_exporter": "python",
   "pygments_lexer": "ipython3",
   "version": "3.12.3"
  }
 },
 "nbformat": 4,
 "nbformat_minor": 5
}
