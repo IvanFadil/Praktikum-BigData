{
 "cells": [
  {
   "cell_type": "code",
   "execution_count": 1,
   "id": "8a635fa5-46ed-47db-b0ec-9e37878b7de4",
   "metadata": {},
   "outputs": [],
   "source": [
    "from pyspark.sql import SparkSession\n"
   ]
  },
  {
   "cell_type": "code",
   "execution_count": 2,
   "id": "27798d6b-99ae-4e0e-a4f7-1c716311edc4",
   "metadata": {},
   "outputs": [
    {
     "name": "stderr",
     "output_type": "stream",
     "text": [
      "24/10/21 17:01:56 WARN Utils: Your hostname, ivan resolves to a loopback address: 127.0.1.1; using 10.0.2.15 instead (on interface enp0s3)\n",
      "24/10/21 17:01:56 WARN Utils: Set SPARK_LOCAL_IP if you need to bind to another address\n",
      "Setting default log level to \"WARN\".\n",
      "To adjust logging level use sc.setLogLevel(newLevel). For SparkR, use setLogLevel(newLevel).\n",
      "24/10/21 17:01:57 WARN NativeCodeLoader: Unable to load native-hadoop library for your platform... using builtin-java classes where applicable\n",
      "24/10/21 17:01:58 WARN Utils: Service 'SparkUI' could not bind on port 4040. Attempting port 4041.\n",
      "24/10/21 17:01:58 WARN Utils: Service 'SparkUI' could not bind on port 4041. Attempting port 4042.\n",
      "24/10/21 17:01:58 WARN Utils: Service 'SparkUI' could not bind on port 4042. Attempting port 4043.\n",
      "24/10/21 17:01:58 WARN Utils: Service 'SparkUI' could not bind on port 4043. Attempting port 4044.\n"
     ]
    }
   ],
   "source": [
    "spark = SparkSession.builder.appName(\"SparkInbuiltFunctions\").getOrCreate()"
   ]
  },
  {
   "cell_type": "code",
   "execution_count": 3,
   "id": "1c2bd902-44c0-432f-a3e5-ca08456eb4aa",
   "metadata": {},
   "outputs": [
    {
     "name": "stderr",
     "output_type": "stream",
     "text": [
      "24/10/21 17:02:10 WARN GarbageCollectionMetrics: To enable non-built-in garbage collector(s) List(G1 Concurrent GC), users should configure it(them) to spark.eventLog.gcMetrics.youngGenerationGarbageCollectors or spark.eventLog.gcMetrics.oldGenerationGarbageCollectors\n"
     ]
    }
   ],
   "source": [
    "#importing the inbuilt functions\n",
    "from pyspark.sql.functions import mean,avg,format_number "
   ]
  },
  {
   "cell_type": "code",
   "execution_count": 4,
   "id": "fb40c87f-e1dc-4cce-a2d0-9fb4af3b60dd",
   "metadata": {},
   "outputs": [],
   "source": [
    "df = spark.read.csv(\"company_product_revenue.csv\",header=True,inferSchema=True)"
   ]
  },
  {
   "cell_type": "code",
   "execution_count": 5,
   "id": "8c00e32b-e3cf-486d-ac52-e23d9a589dc8",
   "metadata": {},
   "outputs": [
    {
     "name": "stdout",
     "output_type": "stream",
     "text": [
      "+------------------+\n",
      "|Mean Revenue Sales|\n",
      "+------------------+\n",
      "| 685.7142857142857|\n",
      "+------------------+\n",
      "\n"
     ]
    }
   ],
   "source": [
    "df.select(mean(\"revenue_sales\").alias(\"Mean Revenue Sales\")).show()"
   ]
  },
  {
   "cell_type": "code",
   "execution_count": 6,
   "id": "5ab6b389-eb1a-4036-9245-e9fdee4bcb0a",
   "metadata": {},
   "outputs": [],
   "source": [
    "#using mean function\n",
    "result_avg = df.select(avg(\"revenue_sales\").alias(\"Average Revenue Sales\")) #using average function"
   ]
  },
  {
   "cell_type": "code",
   "execution_count": 7,
   "id": "f296cd3b-a555-483d-95a3-eaaf05bfb878",
   "metadata": {},
   "outputs": [
    {
     "name": "stdout",
     "output_type": "stream",
     "text": [
      "Average Revenue Sales value is 685.7142857142857\n"
     ]
    }
   ],
   "source": [
    "print(\"Average Revenue Sales value is {0}\".format(result_avg.head()[0]))"
   ]
  },
  {
   "cell_type": "code",
   "execution_count": 8,
   "id": "e280e04e-ceba-4b79-83e9-815179f58af7",
   "metadata": {},
   "outputs": [
    {
     "name": "stdout",
     "output_type": "stream",
     "text": [
      "+-----------------+\n",
      "|Formatted Average|\n",
      "+-----------------+\n",
      "|           685.71|\n",
      "+-----------------+\n",
      "\n"
     ]
    }
   ],
   "source": [
    "result_avg.select(format_number(\"Average revenue Sales\",2).alias(\"Formatted Average\")).show() #formatting number to 2 decimal values\n"
   ]
  },
  {
   "cell_type": "code",
   "execution_count": null,
   "id": "bb549c53-51b3-4922-8b24-68f3012ba6f6",
   "metadata": {},
   "outputs": [],
   "source": []
  }
 ],
 "metadata": {
  "kernelspec": {
   "display_name": "Python 3 (ipykernel)",
   "language": "python",
   "name": "python3"
  },
  "language_info": {
   "codemirror_mode": {
    "name": "ipython",
    "version": 3
   },
   "file_extension": ".py",
   "mimetype": "text/x-python",
   "name": "python",
   "nbconvert_exporter": "python",
   "pygments_lexer": "ipython3",
   "version": "3.12.3"
  }
 },
 "nbformat": 4,
 "nbformat_minor": 5
}
