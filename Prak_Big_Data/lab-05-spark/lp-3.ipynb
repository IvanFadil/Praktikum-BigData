{
 "cells": [
  {
   "cell_type": "code",
   "execution_count": 1,
   "id": "cfb11211-c4b9-4508-aabd-67e713b7b523",
   "metadata": {},
   "outputs": [],
   "source": [
    "from pyspark.sql import SparkSession"
   ]
  },
  {
   "cell_type": "code",
   "execution_count": 4,
   "id": "6fb70ae9-cf0c-4379-bc95-ffcc940619a5",
   "metadata": {},
   "outputs": [],
   "source": [
    "spark = SparkSession.builder.appName('SparkGroupBy&Agg').getOrCreate()"
   ]
  },
  {
   "cell_type": "code",
   "execution_count": 6,
   "id": "fa543d1c-e7a2-4d33-8ac4-cded085e05c8",
   "metadata": {},
   "outputs": [],
   "source": [
    "df = spark.read.csv(\"company_product_revenue.csv\",header=True,inferSchema=True)"
   ]
  },
  {
   "cell_type": "code",
   "execution_count": 7,
   "id": "a95661d8-d484-4531-a7ed-0bc7dc3411a8",
   "metadata": {},
   "outputs": [
    {
     "name": "stdout",
     "output_type": "stream",
     "text": [
      "+-------------+------------+-------------+\n",
      "| company_name|product_name|revenue_sales|\n",
      "+-------------+------------+-------------+\n",
      "|         Audi|          A4|          450|\n",
      "|Mercedes Benz|     G Class|         1200|\n",
      "|          BMW|          X1|          425|\n",
      "|     Mahindra|     XUV 500|          850|\n",
      "+-------------+------------+-------------+\n",
      "only showing top 4 rows\n",
      "\n"
     ]
    }
   ],
   "source": [
    "df.show(4)"
   ]
  },
  {
   "cell_type": "code",
   "execution_count": 10,
   "id": "a8e23852-988f-4197-8d67-0abae164a827",
   "metadata": {},
   "outputs": [
    {
     "name": "stdout",
     "output_type": "stream",
     "text": [
      "Total revenue_sales per company\n"
     ]
    }
   ],
   "source": [
    "print(\"Total revenue_sales per company\")\n"
   ]
  },
  {
   "cell_type": "code",
   "execution_count": 11,
   "id": "792d4b59-d561-417e-a916-a301af746e8a",
   "metadata": {},
   "outputs": [
    {
     "name": "stdout",
     "output_type": "stream",
     "text": [
      "+-------------+------------------+\n",
      "| company_name|sum(revenue_sales)|\n",
      "+-------------+------------------+\n",
      "|          Kia|              1140|\n",
      "|         Audi|              2275|\n",
      "|     Mahindra|              1640|\n",
      "|          BMW|              1975|\n",
      "|Mercedes Benz|              2570|\n",
      "+-------------+------------------+\n",
      "\n"
     ]
    }
   ],
   "source": [
    "df.groupBy(\"company_name\").sum().show()"
   ]
  },
  {
   "cell_type": "code",
   "execution_count": 12,
   "id": "febb75fe-d879-4153-96bf-fa8ffba24d5b",
   "metadata": {},
   "outputs": [
    {
     "name": "stdout",
     "output_type": "stream",
     "text": [
      "Total revenue_sales for the entire data\n",
      "+------------------+\n",
      "|sum(revenue_sales)|\n",
      "+------------------+\n",
      "|              9600|\n",
      "+------------------+\n",
      "\n"
     ]
    }
   ],
   "source": [
    "print(\"Total revenue_sales for the entire data\")\n",
    "\n",
    "df.agg({\"revenue_sales\":\"sum\"}).show()"
   ]
  },
  {
   "cell_type": "code",
   "execution_count": 13,
   "id": "324bee39-8abf-4227-9156-3dd4c32ed90a",
   "metadata": {},
   "outputs": [
    {
     "name": "stdout",
     "output_type": "stream",
     "text": [
      "Max revenue_sales value per company\n",
      "+-------------+------------------+\n",
      "| company_name|max(revenue_sales)|\n",
      "+-------------+------------------+\n",
      "|          Kia|               690|\n",
      "|         Audi|               725|\n",
      "|     Mahindra|               850|\n",
      "|          BMW|               850|\n",
      "|Mercedes Benz|              1200|\n",
      "+-------------+------------------+\n",
      "\n"
     ]
    }
   ],
   "source": [
    "print(\"Max revenue_sales value per company\")\n",
    "df.groupBy(\"company_name\").agg({\"revenue_sales\":\"max\"}).show()"
   ]
  },
  {
   "cell_type": "code",
   "execution_count": 14,
   "id": "947ce7ad-4a28-45fc-80ba-282f37596a54",
   "metadata": {},
   "outputs": [
    {
     "name": "stdout",
     "output_type": "stream",
     "text": [
      "Ordering the data based on the revenue_sales in ascending order\n",
      "+-------------+------------+-------------+\n",
      "| company_name|product_name|revenue_sales|\n",
      "+-------------+------------+-------------+\n",
      "|          BMW|          X1|          425|\n",
      "|         Audi|          A4|          450|\n",
      "|          Kia|    Carnival|          450|\n",
      "|Mercedes Benz|     C Class|          470|\n",
      "|         Audi|          Q7|          500|\n",
      "+-------------+------------+-------------+\n",
      "only showing top 5 rows\n",
      "\n"
     ]
    }
   ],
   "source": [
    "print(\"Ordering the data based on the revenue_sales in ascending order\")\n",
    "df.orderBy(\"revenue_sales\").show(5)"
   ]
  },
  {
   "cell_type": "code",
   "execution_count": 15,
   "id": "2bdc65e9-8783-47db-a6e8-dd23bfc85370",
   "metadata": {},
   "outputs": [
    {
     "name": "stdout",
     "output_type": "stream",
     "text": [
      "Ordering the data based on the revenue_sales in descending order\n",
      "+-------------+------------+-------------+\n",
      "| company_name|product_name|revenue_sales|\n",
      "+-------------+------------+-------------+\n",
      "|Mercedes Benz|     G Class|         1200|\n",
      "|Mercedes Benz|         GLS|          900|\n",
      "|     Mahindra|     XUV 500|          850|\n",
      "|          BMW|          X5|          850|\n",
      "|     Mahindra|     XUV 300|          790|\n",
      "+-------------+------------+-------------+\n",
      "only showing top 5 rows\n",
      "\n"
     ]
    }
   ],
   "source": [
    "print(\"Ordering the data based on the revenue_sales in descending order\")\n",
    "df.orderBy(df[\"revenue_sales\"].desc()).show(5)"
   ]
  },
  {
   "cell_type": "code",
   "execution_count": null,
   "id": "ec2889ae-3e22-4173-a4d2-b48e79e78b14",
   "metadata": {},
   "outputs": [],
   "source": []
  }
 ],
 "metadata": {
  "kernelspec": {
   "display_name": "Python 3 (ipykernel)",
   "language": "python",
   "name": "python3"
  },
  "language_info": {
   "codemirror_mode": {
    "name": "ipython",
    "version": 3
   },
   "file_extension": ".py",
   "mimetype": "text/x-python",
   "name": "python",
   "nbconvert_exporter": "python",
   "pygments_lexer": "ipython3",
   "version": "3.12.3"
  }
 },
 "nbformat": 4,
 "nbformat_minor": 5
}
