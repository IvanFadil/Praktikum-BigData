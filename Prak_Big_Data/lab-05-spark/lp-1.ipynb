{
 "cells": [
  {
   "cell_type": "markdown",
   "id": "496c90c8-e4bd-4a5d-944b-b4fa2fc795b9",
   "metadata": {},
   "source": [
    "### Latihan Praktikum 1"
   ]
  },
  {
   "cell_type": "code",
   "execution_count": 1,
   "id": "8b596f84-6c24-4346-ac58-c4f775695c64",
   "metadata": {},
   "outputs": [],
   "source": [
    "from pyspark.sql import SparkSession"
   ]
  },
  {
   "cell_type": "code",
   "execution_count": 3,
   "id": "96e8af93-b4a7-4e6f-8784-72699fe263f4",
   "metadata": {},
   "outputs": [],
   "source": [
    "spark = SparkSession.builder.appName(\"SparkSQL\").getOrCreate()"
   ]
  },
  {
   "cell_type": "code",
   "execution_count": 4,
   "id": "e4b17ec6-991a-4459-934e-e7eb39820ecd",
   "metadata": {},
   "outputs": [],
   "source": [
    "df = spark.read.csv(\"employee.csv\",header=True,inferSchema=True)"
   ]
  },
  {
   "cell_type": "code",
   "execution_count": 6,
   "id": "44d20451-0db3-4382-88b4-bcd3594cb98a",
   "metadata": {},
   "outputs": [
    {
     "name": "stdout",
     "output_type": "stream",
     "text": [
      "+-----------+-------------+---+----------+-----+\n",
      "|employee_id|employee_name|age|  location|hours|\n",
      "+-----------+-------------+---+----------+-----+\n",
      "|       G001|       Pichai| 47|California|   14|\n",
      "|       M002|         Bill| 64|Washington|   10|\n",
      "|       A003|         Jeff| 56|Washington|   11|\n",
      "|       A004|         Cook| 59|California|   12|\n",
      "+-----------+-------------+---+----------+-----+\n",
      "\n"
     ]
    }
   ],
   "source": [
    "df.show() # Mencoba untuk menampilkan data default"
   ]
  },
  {
   "cell_type": "code",
   "execution_count": 7,
   "id": "bc5c1c21-bb5a-474b-9323-ddb35dff46a2",
   "metadata": {},
   "outputs": [],
   "source": [
    "#Membuat sebuah view dengan nama `associates`\n",
    "df.createOrReplaceTempView(\"associates\") "
   ]
  },
  {
   "cell_type": "code",
   "execution_count": 8,
   "id": "af0f4c2c-9661-4885-8f56-ee53146e8f2f",
   "metadata": {},
   "outputs": [],
   "source": [
    "# Menggunakan perintah select pada associates\n",
    "sql_result_1 = spark.sql(\"SELECT * FROM associates\") "
   ]
  },
  {
   "cell_type": "code",
   "execution_count": 9,
   "id": "7226a71d-f3d0-49d6-88e2-1546f6347721",
   "metadata": {},
   "outputs": [
    {
     "name": "stdout",
     "output_type": "stream",
     "text": [
      "Showing the results of the select query\n",
      "+-----------+-------------+---+----------+-----+\n",
      "|employee_id|employee_name|age|  location|hours|\n",
      "+-----------+-------------+---+----------+-----+\n",
      "|       G001|       Pichai| 47|California|   14|\n",
      "|       M002|         Bill| 64|Washington|   10|\n",
      "|       A003|         Jeff| 56|Washington|   11|\n",
      "|       A004|         Cook| 59|California|   12|\n",
      "+-----------+-------------+---+----------+-----+\n",
      "\n"
     ]
    }
   ],
   "source": [
    "print(\"Showing the results of the select query\")\n",
    "sql_result_1.show()"
   ]
  },
  {
   "cell_type": "code",
   "execution_count": 10,
   "id": "e11e77bb-a5e6-4159-9ea6-c5946d2c0fb9",
   "metadata": {},
   "outputs": [],
   "source": [
    "sql_result_2 = spark.sql(\"SELECT * FROM associates WHERE age BETWEEN 45 AND 60 AND location='California'\")"
   ]
  },
  {
   "cell_type": "code",
   "execution_count": 11,
   "id": "f132edeb-e104-440e-bb95-252962fb3bbe",
   "metadata": {},
   "outputs": [
    {
     "name": "stdout",
     "output_type": "stream",
     "text": [
      "Showing the results after using Where clause in select query\n",
      "+-----------+-------------+---+----------+-----+\n",
      "|employee_id|employee_name|age|  location|hours|\n",
      "+-----------+-------------+---+----------+-----+\n",
      "|       G001|       Pichai| 47|California|   14|\n",
      "|       A004|         Cook| 59|California|   12|\n",
      "+-----------+-------------+---+----------+-----+\n",
      "\n"
     ]
    }
   ],
   "source": [
    "print(\"Showing the results after using Where clause in select query\")\n",
    "sql_result_2.show()"
   ]
  },
  {
   "cell_type": "code",
   "execution_count": null,
   "id": "52b20389-c7fe-4fd2-a5f6-145d07df826b",
   "metadata": {},
   "outputs": [],
   "source": []
  }
 ],
 "metadata": {
  "kernelspec": {
   "display_name": "Python 3 (ipykernel)",
   "language": "python",
   "name": "python3"
  },
  "language_info": {
   "codemirror_mode": {
    "name": "ipython",
    "version": 3
   },
   "file_extension": ".py",
   "mimetype": "text/x-python",
   "name": "python",
   "nbconvert_exporter": "python",
   "pygments_lexer": "ipython3",
   "version": "3.12.3"
  }
 },
 "nbformat": 4,
 "nbformat_minor": 5
}
